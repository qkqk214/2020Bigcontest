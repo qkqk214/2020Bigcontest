{
 "cells": [
  {
   "cell_type": "markdown",
   "metadata": {},
   "source": [
    "### 필요한 모듈 불러오기"
   ]
  },
  {
   "cell_type": "code",
   "execution_count": 27,
   "metadata": {},
   "outputs": [],
   "source": [
    "import pandas as pd\n",
    "import numpy as np\n",
    "import matplotlib.pyplot as plt\n",
    "import seaborn as sns\n",
    "import math\n",
    "import warnings\n",
    "warnings.filterwarnings(action='ignore')\n",
    "\n",
    "from IPython.core.interactiveshell import InteractiveShell\n",
    "InteractiveShell.ast_node_interactivity ='all'\n",
    "\n",
    "import time\n",
    "from tqdm.notebook import tqdm\n",
    "\n",
    "import datetime\n",
    "from datetime import timedelta"
   ]
  },
  {
   "cell_type": "markdown",
   "metadata": {},
   "source": [
    "### 데이터 불러오기"
   ]
  },
  {
   "cell_type": "code",
   "execution_count": 37,
   "metadata": {},
   "outputs": [],
   "source": [
    "data =pd.read_json('test_data_v1_COM.json',orient='table')"
   ]
  },
  {
   "cell_type": "code",
   "execution_count": 39,
   "metadata": {},
   "outputs": [],
   "source": [
    "del data['취급액']"
   ]
  },
  {
   "cell_type": "code",
   "execution_count": 40,
   "metadata": {},
   "outputs": [],
   "source": [
    "for i in range(0,len(data)):\n",
    "    if data[\"브랜드\"][i]==\"Nobrand\":\n",
    "        data[\"브랜드\"][i]=np.nan"
   ]
  },
  {
   "cell_type": "code",
   "execution_count": 41,
   "metadata": {},
   "outputs": [],
   "source": [
    "data.dropna(inplace=True) ## 브랜드가 없는 행은 지우고 병합 --> 추후 다시 병합예정"
   ]
  },
  {
   "cell_type": "markdown",
   "metadata": {},
   "source": [
    "### 브랜드 상품명 검색률 추가"
   ]
  },
  {
   "cell_type": "code",
   "execution_count": 43,
   "metadata": {},
   "outputs": [],
   "source": [
    "import copy"
   ]
  },
  {
   "cell_type": "code",
   "execution_count": 44,
   "metadata": {},
   "outputs": [
    {
     "data": {
      "text/plain": [
       "2712"
      ]
     },
     "execution_count": 44,
     "metadata": {},
     "output_type": "execute_result"
    }
   ],
   "source": [
    "a = copy.deepcopy(data[data.columns.difference([\"상품종류\",\"브랜드상품\"])])\n",
    "len(a)"
   ]
  },
  {
   "cell_type": "code",
   "execution_count": 45,
   "metadata": {},
   "outputs": [
    {
     "data": {
      "text/plain": [
       "Index(['방송일시', '노출(분)', '마더코드', '상품코드', '상품명', '상품군', '판매단가', '브랜드', '상품종류',\n",
       "       '브랜드상품', '방송날짜', '방송_월', '방송_일', '판매일수'],\n",
       "      dtype='object')"
      ]
     },
     "execution_count": 45,
     "metadata": {},
     "output_type": "execute_result"
    }
   ],
   "source": [
    "data.columns"
   ]
  },
  {
   "cell_type": "code",
   "execution_count": 46,
   "metadata": {},
   "outputs": [],
   "source": [
    "a[\"방송날짜\"] = pd.to_datetime(a['방송날짜']).dt.tz_localize(None)"
   ]
  },
  {
   "cell_type": "code",
   "execution_count": 47,
   "metadata": {},
   "outputs": [
    {
     "data": {
      "application/vnd.jupyter.widget-view+json": {
       "model_id": "f6d527345661435abe5ab234efd3f612",
       "version_major": 2,
       "version_minor": 0
      },
      "text/plain": [
       "HBox(children=(IntProgress(value=0, max=12), HTML(value='')))"
      ]
     },
     "metadata": {},
     "output_type": "display_data"
    },
    {
     "name": "stdout",
     "output_type": "stream",
     "text": [
      "161 의류\n",
      "329 속옷\n",
      "167 이미용\n",
      "272 주방\n",
      "260 농수축\n",
      "191 무형\n",
      "489 가전\n",
      "339 생활용품\n",
      "159 가구\n",
      "277 잡화\n",
      "18 건강기능\n",
      "72 침구\n",
      "\n"
     ]
    }
   ],
   "source": [
    "import glob\n",
    "final = pd.DataFrame(columns=a.columns) ## 최종데이터\n",
    "상품군 = pd.unique(a[\"상품군\"])\n",
    "a[\"방송날짜\"] = pd.to_datetime(a[\"방송날짜\"])\n",
    "\n",
    "for i in tqdm(range(0,len(상품군))):\n",
    "    ## 파일 실행 위치에 맞게 변경\n",
    "    path = r'C:/Users/SEC/Desktop/매진임박/브랜드상품검색_TEST/'+상품군[i]\n",
    "    all_files = glob.glob(path + \"/*.xlsx\")\n",
    "    noth = pd.DataFrame(columns=[\"방송날짜\",\"검색률\",\"브랜드\"])\n",
    "    for filename in all_files:\n",
    "        df = pd.read_excel(filename, header=6)\n",
    "        new = pd.DataFrame({\"방송날짜\" : df[\"날짜\"][-1:], \"검색률\" : df[df.columns[1]][-8:-1].mean(),\"브랜드\":df.columns[1]})\n",
    "        noth = pd.concat([noth,new])    \n",
    "\n",
    "    \n",
    "    mg1 = a[a[\"상품군\"]==상품군[i]][a[\"브랜드\"]==noth[\"브랜드\"].unique().tolist()[0]]\n",
    "    mg1[\"방송날짜\"] = pd.to_datetime(mg1[\"방송날짜\"])\n",
    "    mg2 = noth[noth[\"브랜드\"]==noth[\"브랜드\"].unique().tolist()[0]].reset_index(drop=True)\n",
    "    mg2[\"방송날짜\"] = pd.to_datetime(mg2[\"방송날짜\"])\n",
    "    new = pd.merge(mg1,mg2,how='left').fillna(method='ffill')\n",
    "    merge = pd.DataFrame(columns=new.columns)\n",
    "    merge = pd.concat([merge,new])\n",
    "    \n",
    "\n",
    "    for j in noth[\"브랜드\"].unique().tolist()[1:]:\n",
    "        mg1 = a[a[\"상품군\"]==상품군[i]][a[\"브랜드\"]==j]\n",
    "        mg1[\"방송날짜\"] = pd.to_datetime(mg1[\"방송날짜\"])\n",
    "        mg2 = noth[noth[\"브랜드\"]==j].reset_index(drop=True)\n",
    "        mg2[\"방송날짜\"] = pd.to_datetime(mg2[\"방송날짜\"])\n",
    "        new = pd.merge(mg1,mg2,how='left').fillna(method='ffill')\n",
    "        merge = pd.concat([merge,new])\n",
    "        \n",
    "    final = pd.concat([final,merge])\n",
    "    print(len(merge), 상품군[i])"
   ]
  },
  {
   "cell_type": "code",
   "execution_count": 48,
   "metadata": {},
   "outputs": [
    {
     "data": {
      "text/plain": [
       "2734"
      ]
     },
     "execution_count": 48,
     "metadata": {},
     "output_type": "execute_result"
    }
   ],
   "source": [
    "len(final)"
   ]
  },
  {
   "cell_type": "code",
   "execution_count": 53,
   "metadata": {},
   "outputs": [],
   "source": [
    "total = pd.merge(a,final,how='left').drop_duplicates()"
   ]
  },
  {
   "cell_type": "markdown",
   "metadata": {},
   "source": [
    "### 원본 데이터와 total 데이터 병합 후 브랜드이름 없는 행의 결측치 채우기"
   ]
  },
  {
   "cell_type": "code",
   "execution_count": 55,
   "metadata": {},
   "outputs": [],
   "source": [
    "data2 =pd.read_json('test_data_v1_COM.json',orient='table')\n",
    "\n",
    "data2[\"방송날짜\"] = pd.to_datetime(data2[\"방송날짜\"]).dt.tz_localize(None)\n",
    "\n",
    "data_a = pd.merge(data2,total,how='left')"
   ]
  },
  {
   "cell_type": "markdown",
   "metadata": {},
   "source": [
    "- 브랜드 결측치   --> Nobrand\n",
    "- 판매일수 결측치 --> 해당 상품군의 판매일수로 대체\n",
    "- 검색률 결측치   --> fill_mean_func 함수를 통해 해당하는 상품군의 평균치로 대체"
   ]
  },
  {
   "cell_type": "code",
   "execution_count": 58,
   "metadata": {},
   "outputs": [],
   "source": [
    "fill_mean_func = lambda g: g.fillna(g.mean())\n",
    "\n",
    "data_a = data_a.groupby('상품군').apply(fill_mean_func)\n",
    "data_a.reset_index(drop=True,inplace=True)"
   ]
  },
  {
   "cell_type": "code",
   "execution_count": 59,
   "metadata": {},
   "outputs": [
    {
     "data": {
      "text/plain": [
       "2891"
      ]
     },
     "execution_count": 59,
     "metadata": {},
     "output_type": "execute_result"
    },
    {
     "data": {
      "text/plain": [
       "방송일시        0\n",
       "노출(분)       0\n",
       "마더코드        0\n",
       "상품코드        0\n",
       "상품명         0\n",
       "상품군         0\n",
       "판매단가        0\n",
       "취급액      2891\n",
       "브랜드         0\n",
       "상품종류        0\n",
       "브랜드상품       0\n",
       "방송날짜        0\n",
       "방송_월        0\n",
       "방송_일        0\n",
       "판매일수        0\n",
       "검색률         0\n",
       "dtype: int64"
      ]
     },
     "execution_count": 59,
     "metadata": {},
     "output_type": "execute_result"
    }
   ],
   "source": [
    "len(data_a)\n",
    "data_a.isnull().sum()"
   ]
  },
  {
   "cell_type": "markdown",
   "metadata": {},
   "source": [
    "### 최종 데이터"
   ]
  },
  {
   "cell_type": "code",
   "execution_count": 62,
   "metadata": {},
   "outputs": [],
   "source": [
    "data_a.rename(columns={'검색률':'검색률2'},inplace=True)"
   ]
  },
  {
   "cell_type": "code",
   "execution_count": 63,
   "metadata": {},
   "outputs": [],
   "source": [
    "data_a.to_json(\"test_data_v2_COM.json\",orient =\"table\")"
   ]
  },
  {
   "cell_type": "code",
   "execution_count": null,
   "metadata": {},
   "outputs": [],
   "source": []
  }
 ],
 "metadata": {
  "kernelspec": {
   "display_name": "Python 3",
   "language": "python",
   "name": "python3"
  },
  "language_info": {
   "codemirror_mode": {
    "name": "ipython",
    "version": 3
   },
   "file_extension": ".py",
   "mimetype": "text/x-python",
   "name": "python",
   "nbconvert_exporter": "python",
   "pygments_lexer": "ipython3",
   "version": "3.8.5"
  }
 },
 "nbformat": 4,
 "nbformat_minor": 2
}
