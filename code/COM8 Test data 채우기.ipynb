{
 "cells": [
  {
   "cell_type": "code",
   "execution_count": 1,
   "metadata": {},
   "outputs": [],
   "source": [
    "# 필요한 모듈 import\n",
    "import fn_files as fn\n",
    "\n",
    "from datetime import datetime, timedelta\n",
    "import matplotlib.pyplot as plt\n",
    "from matplotlib import font_manager, rc\n",
    "rc('font',family = 'Malgun Gothic')\n",
    "import warnings\n",
    "warnings.filterwarnings(action='ignore')\n",
    "import numpy as np\n",
    "import pandas as pd\n",
    "import copy\n",
    "import json\n",
    "import math\n",
    "np.random.seed(0)"
   ]
  },
  {
   "cell_type": "code",
   "execution_count": 2,
   "metadata": {},
   "outputs": [],
   "source": [
    "train_data =pd.read_json('data_v3_COM.json',orient='table')\n",
    "test_data = pd.read_json('test_data_v2_COM.json',orient='table')"
   ]
  },
  {
   "cell_type": "markdown",
   "metadata": {},
   "source": [
    "### 데이터 준비"
   ]
  },
  {
   "cell_type": "code",
   "execution_count": 3,
   "metadata": {},
   "outputs": [
    {
     "data": {
      "application/vnd.jupyter.widget-view+json": {
       "model_id": "6fecdd6330bf438bbadc8d19b018a327",
       "version_major": 2,
       "version_minor": 0
      },
      "text/plain": [
       "HBox(children=(IntProgress(value=0, max=2890), HTML(value='')))"
      ]
     },
     "metadata": {},
     "output_type": "display_data"
    },
    {
     "name": "stdout",
     "output_type": "stream",
     "text": [
      "\n"
     ]
    },
    {
     "data": {
      "application/vnd.jupyter.widget-view+json": {
       "model_id": "fd06706da6734d2784104a3c05a2fd62",
       "version_major": 2,
       "version_minor": 0
      },
      "text/plain": [
       "HBox(children=(IntProgress(value=0, max=1817), HTML(value='')))"
      ]
     },
     "metadata": {},
     "output_type": "display_data"
    },
    {
     "name": "stdout",
     "output_type": "stream",
     "text": [
      "\n",
      "총노출, 누적노출, 노출비율 변수 완료\n",
      "기상 데이터 변수 완료\n",
      "미세먼지 데이터 변수 완료\n"
     ]
    },
    {
     "data": {
      "application/vnd.jupyter.widget-view+json": {
       "model_id": "08fe34d09311495da53a71c6511ad99f",
       "version_major": 2,
       "version_minor": 0
      },
      "text/plain": [
       "HBox(children=(IntProgress(value=0, max=2), HTML(value='')))"
      ]
     },
     "metadata": {},
     "output_type": "display_data"
    },
    {
     "name": "stdout",
     "output_type": "stream",
     "text": [
      "\n",
      "소비지출전망 변수 완료\n",
      "방송시작,방송종료,요일,시간대,Hour 변수 완료\n",
      "pk_time_01 변수 완료\n"
     ]
    },
    {
     "data": {
      "application/vnd.jupyter.widget-view+json": {
       "model_id": "c60f7694bb824bd69deafd9bca43551e",
       "version_major": 2,
       "version_minor": 0
      },
      "text/plain": [
       "HBox(children=(IntProgress(value=0, max=2891), HTML(value='')))"
      ]
     },
     "metadata": {},
     "output_type": "display_data"
    },
    {
     "name": "stdout",
     "output_type": "stream",
     "text": [
      "\n",
      "pk_times_prd 변수 완성\n"
     ]
    },
    {
     "data": {
      "application/vnd.jupyter.widget-view+json": {
       "model_id": "3796a61a26f1439baceb5b22167f25a8",
       "version_major": 2,
       "version_minor": 0
      },
      "text/plain": [
       "HBox(children=(IntProgress(value=0, max=2891), HTML(value='')))"
      ]
     },
     "metadata": {},
     "output_type": "display_data"
    },
    {
     "name": "stdout",
     "output_type": "stream",
     "text": [
      "\n",
      "pk_times_tot 변수 완성\n",
      "NS shop 주가 변수 완성\n",
      "온라인 쇼핑몰 거래액 변수 완료\n"
     ]
    },
    {
     "data": {
      "application/vnd.jupyter.widget-view+json": {
       "model_id": "e1d6502480df41d5b493757830085300",
       "version_major": 2,
       "version_minor": 0
      },
      "text/plain": [
       "HBox(children=(IntProgress(value=0, max=2891), HTML(value='')))"
      ]
     },
     "metadata": {},
     "output_type": "display_data"
    },
    {
     "name": "stdout",
     "output_type": "stream",
     "text": [
      "\n",
      "지난 2회 실적 가중치 변수 완료\n"
     ]
    },
    {
     "data": {
      "application/vnd.jupyter.widget-view+json": {
       "model_id": "6734505d924e424f82cc109fec7a7a05",
       "version_major": 2,
       "version_minor": 0
      },
      "text/plain": [
       "HBox(children=(IntProgress(value=0, max=2891), HTML(value='')))"
      ]
     },
     "metadata": {},
     "output_type": "display_data"
    },
    {
     "name": "stdout",
     "output_type": "stream",
     "text": [
      "\n",
      "지난 3회 실적 가중치 변수 완료\n",
      "상품군별 시간대 가중치 완료\n",
      "시간_범주 변수 완료\n"
     ]
    }
   ],
   "source": [
    "test_data = fn.fn_test_data_v2(test_data,train_data)"
   ]
  },
  {
   "cell_type": "code",
   "execution_count": 4,
   "metadata": {},
   "outputs": [],
   "source": [
    "test_data['마더코드'] = test_data['마더코드'].apply(lambda x: int(x))\n",
    "test_data['상품코드'] = test_data['상품코드'].apply(lambda x: int(x))\n",
    "test_data['판매단가'] = test_data['판매단가'].apply(lambda x: int(x))\n",
    "test_data['방송_월'] = test_data['방송_월'].apply(lambda x:int(x))\n",
    "test_data['방송_일'] = test_data['방송_일'].apply(lambda x:int(x))\n",
    "test_data['판매일수'] = test_data['판매일수'].apply(lambda x:int(x))"
   ]
  },
  {
   "cell_type": "code",
   "execution_count": 5,
   "metadata": {},
   "outputs": [
    {
     "data": {
      "text/plain": [
       "방송일시               0\n",
       "노출(분)              0\n",
       "마더코드               0\n",
       "상품코드               0\n",
       "상품명                0\n",
       "상품군                0\n",
       "판매단가               0\n",
       "취급액             2891\n",
       "브랜드                0\n",
       "상품종류               0\n",
       "브랜드상품              0\n",
       "방송날짜               0\n",
       "방송_월               0\n",
       "방송_일               0\n",
       "판매일수               0\n",
       "검색률2               0\n",
       "총노출(분)             0\n",
       "누적노출(분)            0\n",
       "lng_time           0\n",
       "강수량(mm)            0\n",
       "기온(°C)             0\n",
       "습도(%)              0\n",
       "기온_int             0\n",
       "1시간평균 미세먼지농도       0\n",
       "소비지출전망CSI          0\n",
       "소비자심리지수            0\n",
       "방송시작               0\n",
       "방송종료               0\n",
       "요일                 0\n",
       "시간대                0\n",
       "Hour               0\n",
       "pk_time_01         0\n",
       "pk_times_prd       0\n",
       "pk_times_tot       0\n",
       "Open               0\n",
       "온라인 쇼핑몰 거래액        0\n",
       "two_amt            0\n",
       "three_amt          0\n",
       "time_weight        0\n",
       "시간_범주              0\n",
       "성별                 0\n",
       "일/무                0\n",
       "상품차이               0\n",
       "dtype: int64"
      ]
     },
     "execution_count": 5,
     "metadata": {},
     "output_type": "execute_result"
    }
   ],
   "source": [
    "test_data.isna().sum()"
   ]
  },
  {
   "cell_type": "code",
   "execution_count": 6,
   "metadata": {},
   "outputs": [],
   "source": [
    "def MAPE(y_true, y_pred):\n",
    "    if y_true == 0:\n",
    "        return 0\n",
    "    else:\n",
    "        y_true, y_pred = np.array(y_true), np.array(y_pred)\n",
    "        return np.abs((y_true - y_pred) / y_true)"
   ]
  },
  {
   "cell_type": "markdown",
   "metadata": {},
   "source": [
    "## Training"
   ]
  },
  {
   "cell_type": "code",
   "execution_count": 7,
   "metadata": {},
   "outputs": [],
   "source": [
    "from lightgbm import LGBMRegressor,plot_importance\n",
    "from sklearn.model_selection import train_test_split\n",
    "from sklearn.model_selection import KFold, GridSearchCV\n",
    "from sklearn.ensemble import RandomForestRegressor\n",
    "from sklearn.model_selection import KFold\n",
    "import lightgbm as lgb\n",
    "\n",
    "from sklearn.preprocessing import LabelEncoder\n",
    "encoder = LabelEncoder()"
   ]
  },
  {
   "cell_type": "code",
   "execution_count": 8,
   "metadata": {},
   "outputs": [],
   "source": [
    "def logg(x):\n",
    "    if x == 0:\n",
    "        return 0\n",
    "    else:\n",
    "        return np.log(x)\n",
    "    \n",
    "train_data['ln판매단가'] = list(map(logg,train_data['판매단가']))\n",
    "train_data['ln수량'] = list(map(logg,train_data['수량']))"
   ]
  },
  {
   "cell_type": "code",
   "execution_count": 9,
   "metadata": {},
   "outputs": [],
   "source": [
    "df = train_data[['노출(분)', '마더코드', '상품코드','상품군', '판매단가', '취급액','수량','검색률2',\n",
    "       'lng_time','강수량(mm)', '습도(%)', '기온_int', '1시간평균 미세먼지농도', '소비지출전망CSI',\n",
    "       '소비자심리지수','요일', 'pk_time_01', 'pk_times_prd', 'Open', '온라인 쇼핑몰 거래액','two_amt',\n",
    "        '시간_범주', '성별', '일/무', '상품차이','방송_월',\"ln수량\",\"ln판매단가\"]]\n",
    "\n",
    "encoder.fit(df['요일'])\n",
    "df['요일'] = encoder.transform(df['요일'])\n",
    "\n",
    "encoder.fit(df['시간_범주'])\n",
    "df['시간_범주'] = encoder.transform(df['시간_범주'])\n",
    "\n",
    "encoder.fit(df['상품군'])\n",
    "df['상품군'] = encoder.transform(df['상품군'])\n",
    "\n",
    "df['상품군'] = df['상품군'].astype('category')\n",
    "df['방송_월'] = df['방송_월'].astype('category')\n",
    "df['요일'] = df['요일'].astype('category')\n",
    "df['시간_범주'] = df['시간_범주'].astype('category')\n",
    "df['성별'] = df['성별'].astype('category')\n",
    "df['일/무'] = df['일/무'].astype('category')\n",
    "df['상품차이'] = df['상품차이'].astype('category')"
   ]
  },
  {
   "cell_type": "code",
   "execution_count": 10,
   "metadata": {},
   "outputs": [],
   "source": [
    "cloths = df[df['상품군']==6]\n",
    "inwear = df[df['상품군']==5]\n",
    "kitchen = df[df['상품군']==9]\n",
    "food = df[df['상품군']==3]\n",
    "skin = df[df['상품군']==7]\n",
    "digital = df[df['상품군']==1]\n",
    "items = df[df['상품군']==4]\n",
    "health = df[df['상품군']==2]\n",
    "stuff = df[df['상품군']==8]\n",
    "furni = df[df['상품군']==0]\n",
    "bedd = df[df['상품군']==10]"
   ]
  },
  {
   "cell_type": "code",
   "execution_count": 11,
   "metadata": {},
   "outputs": [],
   "source": [
    "X1 = cloths[cloths.columns.difference([\"취급액\",\"수량\",'판매단가','ln수량'])]\n",
    "y1 = cloths[\"ln수량\"]\n",
    "X1_train, X1_test, y1_train, y1_test = train_test_split(X1,y1,test_size=0.2,random_state=42)\n",
    "\n",
    "X2 = inwear[inwear.columns.difference([\"취급액\",\"수량\",'판매단가','ln수량'])]\n",
    "y2 = inwear[\"ln수량\"]\n",
    "X2_train, X2_test, y2_train, y2_test = train_test_split(X2,y2,test_size=0.2,random_state=42)\n",
    "\n",
    "X3 = kitchen[kitchen.columns.difference([\"취급액\",\"수량\",'판매단가','ln수량'])]\n",
    "y3 = kitchen[\"ln수량\"]\n",
    "X3_train, X3_test, y3_train, y3_test = train_test_split(X3,y3,test_size=0.2,random_state=42)\n",
    "\n",
    "X4 = food[food.columns.difference([\"취급액\",\"수량\",'판매단가','ln수량'])]\n",
    "y4 = food[\"ln수량\"]\n",
    "X4_train, X4_test, y4_train, y4_test = train_test_split(X4,y4,test_size=0.2,random_state=42)\n",
    "\n",
    "X5 = skin[skin.columns.difference([\"취급액\",\"수량\",'판매단가','ln수량'])]\n",
    "y5 = skin[\"ln수량\"]\n",
    "X5_train, X5_test, y5_train, y5_test = train_test_split(X5,y5,test_size=0.2,random_state=42)\n",
    "\n",
    "X6 = digital[digital.columns.difference([\"취급액\",\"수량\",'판매단가','ln수량'])]\n",
    "y6 = digital[\"ln수량\"]\n",
    "X6_train, X6_test, y6_train, y6_test = train_test_split(X6,y6,test_size=0.2,random_state=42)\n",
    "\n",
    "X7 = items[items.columns.difference([\"취급액\",\"수량\",'판매단가','ln수량'])]\n",
    "y7 = items[\"ln수량\"]\n",
    "X7_train, X7_test, y7_train, y7_test = train_test_split(X7,y7,test_size=0.2, random_state=42)\n",
    "\n",
    "X8 = health[health.columns.difference([\"취급액\",\"수량\",'판매단가','ln수량'])]\n",
    "y8 = health[\"ln수량\"]\n",
    "X8_train, X8_test, y8_train, y8_test = train_test_split(X8,y8,test_size=0.2,random_state=42)\n",
    "\n",
    "X9 = stuff[stuff.columns.difference([\"취급액\",\"수량\",'판매단가','ln수량'])]\n",
    "y9 = stuff[\"ln수량\"]\n",
    "X9_train, X9_test, y9_train, y9_test = train_test_split(X9,y9,test_size=0.2,random_state=42)\n",
    "\n",
    "X10 = furni[furni.columns.difference([\"취급액\",\"수량\",'판매단가','ln수량'])]\n",
    "y10 = furni[\"ln수량\"]\n",
    "X10_train, X10_test, y10_train, y10_test = train_test_split(X10,y10,test_size=0.2,random_state=42)\n",
    "\n",
    "X11 = bedd[bedd.columns.difference([\"취급액\",\"수량\",'판매단가','ln수량'])]\n",
    "y11 = bedd[\"ln수량\"]\n",
    "X11_train, X11_test, y11_train, y11_test = train_test_split(X11,y11,test_size=0.2,random_state=42)\n",
    "\n",
    "X_train = pd.concat([X1_train,X2_train,X3_train,X4_train,X5_train,X6_train,X7_train,X8_train,X9_train,X10_train,X11_train])\n",
    "X_valid = pd.concat([X1_test,X2_test,X3_test,X4_test,X5_test,X6_test,X7_test,X8_test,X9_test,X10_test,X11_test])\n",
    "y_train = pd.concat([y1_train,y2_train,y3_train,y4_train,y5_train,y6_train,y7_train,y8_train,y9_train,y10_train,y11_train])\n",
    "y_valid = pd.concat([y1_test,y2_test,y3_test,y4_test,y5_test,y6_test,y7_test,y8_test,y9_test,y10_test,y11_test])"
   ]
  },
  {
   "cell_type": "code",
   "execution_count": 12,
   "metadata": {},
   "outputs": [
    {
     "name": "stdout",
     "output_type": "stream",
     "text": [
      "[LightGBM] [Warning] feature_fraction is set=0.6, colsample_bytree=1.0 will be ignored. Current value: feature_fraction=0.6\n",
      "[LightGBM] [Warning] bagging_fraction is set=0.7, subsample=1.0 will be ignored. Current value: bagging_fraction=0.7\n",
      "[LightGBM] [Warning] Accuracy may be bad since you didn't set num_leaves and 2^max_depth > num_leaves\n"
     ]
    },
    {
     "data": {
      "text/plain": [
       "{'bagging_fraction': 0.7,\n",
       " 'boosting_type': 'gbdt',\n",
       " 'feature_fraction': 0.6,\n",
       " 'learning_rate': 0.1,\n",
       " 'max_depth': 14,\n",
       " 'metric': 'mse',\n",
       " 'objective': 'regression'}"
      ]
     },
     "execution_count": 12,
     "metadata": {},
     "output_type": "execute_result"
    }
   ],
   "source": [
    "lgbm_r=LGBMRegressor()\n",
    "\n",
    "gridParams = {\n",
    "    'learning_rate': [0.1,0.01],\n",
    "    'boosting_type' : ['gbdt'],\n",
    "    'max_depth' : [12,14,16,18,20],\n",
    "    'objective' : ['regression'],\n",
    "    'feature_fraction' : [0.7, 0.8,0.9,0.6],\n",
    "    'bagging_fraction' : [0.7, 0.8,0.6],\n",
    "    'metric' : ['mse']\n",
    "}\n",
    "\n",
    "params = gridParams\n",
    "model = lgb.LGBMRegressor()\n",
    "\n",
    "grid = GridSearchCV(model, gridParams,\n",
    "                    verbose=0,\n",
    "                    cv=4,\n",
    "                    n_jobs=-1)\n",
    "\n",
    "grid.fit(X_train, y_train)\n",
    "\n",
    "grid.best_params_"
   ]
  },
  {
   "cell_type": "code",
   "execution_count": 13,
   "metadata": {},
   "outputs": [
    {
     "name": "stdout",
     "output_type": "stream",
     "text": [
      "Fitting with params: \n",
      "{'learning_rate': 0.1, 'boosting_type': ['gbdt'], 'max_depth': 14, 'objective': ['regression'], 'feature_fraction': 0.6, 'bagging_fraction': 0.7, 'metric': ['mse']}\n"
     ]
    }
   ],
   "source": [
    "params['feature_fraction'] = grid.best_params_['feature_fraction']\n",
    "params['learning_rate'] = grid.best_params_['learning_rate']\n",
    "params['bagging_fraction'] = grid.best_params_['bagging_fraction']\n",
    "params['max_depth'] = grid.best_params_['max_depth']\n",
    "print('Fitting with params: ')\n",
    "print(params)"
   ]
  },
  {
   "cell_type": "code",
   "execution_count": 14,
   "metadata": {
    "scrolled": true
   },
   "outputs": [
    {
     "name": "stdout",
     "output_type": "stream",
     "text": [
      "[LightGBM] [Warning] Find whitespaces in feature_names, replace with underlines\n",
      "[LightGBM] [Warning] Accuracy may be bad since you didn't set num_leaves and 2^max_depth > num_leaves\n",
      "[LightGBM] [Warning] Auto-choosing col-wise multi-threading, the overhead of testing was 0.007316 seconds.\n",
      "You can set `force_col_wise=true` to remove the overhead.\n",
      "[LightGBM] [Info] Total Bins 2361\n",
      "[LightGBM] [Info] Number of data points in the train set: 30105, number of used features: 24\n",
      "[LightGBM] [Warning] Accuracy may be bad since you didn't set num_leaves and 2^max_depth > num_leaves\n",
      "[LightGBM] [Warning] Find whitespaces in feature_names, replace with underlines\n",
      "[LightGBM] [Info] Start training from score 4.231181\n",
      "Training until validation scores don't improve for 1000 rounds\n",
      "[100]\tvalid_0's l2: 0.34495\n",
      "[200]\tvalid_0's l2: 0.31477\n",
      "[300]\tvalid_0's l2: 0.297078\n",
      "[400]\tvalid_0's l2: 0.287759\n",
      "[500]\tvalid_0's l2: 0.281729\n",
      "[600]\tvalid_0's l2: 0.27669\n",
      "[700]\tvalid_0's l2: 0.272409\n",
      "[800]\tvalid_0's l2: 0.269096\n",
      "[900]\tvalid_0's l2: 0.266503\n",
      "[1000]\tvalid_0's l2: 0.264827\n",
      "[1100]\tvalid_0's l2: 0.263297\n",
      "[1200]\tvalid_0's l2: 0.261236\n",
      "[1300]\tvalid_0's l2: 0.259837\n",
      "[1400]\tvalid_0's l2: 0.258664\n",
      "[1500]\tvalid_0's l2: 0.258277\n",
      "[1600]\tvalid_0's l2: 0.25773\n",
      "[1700]\tvalid_0's l2: 0.257041\n",
      "[1800]\tvalid_0's l2: 0.256885\n",
      "[1900]\tvalid_0's l2: 0.256538\n",
      "[2000]\tvalid_0's l2: 0.256382\n",
      "[2100]\tvalid_0's l2: 0.256251\n",
      "[2200]\tvalid_0's l2: 0.255945\n",
      "[2300]\tvalid_0's l2: 0.255561\n",
      "[2400]\tvalid_0's l2: 0.254856\n",
      "[2500]\tvalid_0's l2: 0.254489\n",
      "[2600]\tvalid_0's l2: 0.254234\n",
      "[2700]\tvalid_0's l2: 0.254329\n",
      "[2800]\tvalid_0's l2: 0.254371\n",
      "[2900]\tvalid_0's l2: 0.254358\n",
      "[3000]\tvalid_0's l2: 0.254225\n",
      "[3100]\tvalid_0's l2: 0.254155\n",
      "[3200]\tvalid_0's l2: 0.254227\n",
      "[3300]\tvalid_0's l2: 0.254357\n",
      "[3400]\tvalid_0's l2: 0.254719\n",
      "[3500]\tvalid_0's l2: 0.255069\n",
      "[3600]\tvalid_0's l2: 0.25513\n",
      "[3700]\tvalid_0's l2: 0.255446\n",
      "[3800]\tvalid_0's l2: 0.255645\n",
      "[3900]\tvalid_0's l2: 0.255537\n",
      "[4000]\tvalid_0's l2: 0.25567\n",
      "[4100]\tvalid_0's l2: 0.255718\n",
      "Early stopping, best iteration is:\n",
      "[3128]\tvalid_0's l2: 0.254005\n"
     ]
    }
   ],
   "source": [
    "train_ds = lgb.Dataset(X_train, label = y_train) \n",
    "valid_ds = lgb.Dataset(X_valid, label = y_valid)\n",
    "\n",
    "model = lgb.train(params, train_ds, 10000, valid_ds, verbose_eval=100, early_stopping_rounds=1000)"
   ]
  },
  {
   "cell_type": "code",
   "execution_count": 15,
   "metadata": {},
   "outputs": [
    {
     "name": "stdout",
     "output_type": "stream",
     "text": [
      "lightgbm model train data mape:  12.46571294863214\n"
     ]
    }
   ],
   "source": [
    "y_pred = model.predict(X_train)\n",
    "y_pred = np.exp(y_pred)\n",
    "y_pred = np.array(train_data[train_data.index.isin(y_train.index.tolist())]['판매단가'][y_train.index]*y_pred).tolist()\n",
    "real = train_data[train_data.index.isin(y_train.index.tolist())]['취급액'][y_train.index].tolist()\n",
    "ss = []\n",
    "for i in range(len(y_pred)):\n",
    "    ss.append(MAPE(real[i],y_pred[i]))\n",
    "mape=np.array(ss).mean()*100\n",
    "print('lightgbm model train data mape: ',mape)"
   ]
  },
  {
   "cell_type": "code",
   "execution_count": 16,
   "metadata": {},
   "outputs": [
    {
     "name": "stdout",
     "output_type": "stream",
     "text": [
      "lightgbm model test data mape:  31.48268216297981\n"
     ]
    }
   ],
   "source": [
    "y_pred = model.predict(X_valid)\n",
    "y_pred = np.exp(y_pred)\n",
    "y_pred = np.array(train_data[train_data.index.isin(y_valid.index.tolist())]['판매단가'][y_valid.index]*y_pred).tolist()\n",
    "real = train_data[train_data.index.isin(y_valid.index.tolist())]['취급액'][y_valid.index].tolist()\n",
    "ss = []\n",
    "for i in range(len(y_pred)):\n",
    "    ss.append(MAPE(real[i],y_pred[i]))\n",
    "mape=np.array(ss).mean()*100\n",
    "print('lightgbm model test data mape: ',mape)"
   ]
  },
  {
   "cell_type": "code",
   "execution_count": 17,
   "metadata": {},
   "outputs": [
    {
     "data": {
      "text/plain": [
       "<Figure size 720x576 with 0 Axes>"
      ]
     },
     "metadata": {},
     "output_type": "display_data"
    },
    {
     "data": {
      "image/png": "[encoded data removed]",
      "text/plain": [
       "<Figure size 432x288 with 1 Axes>"
      ]
     },
     "metadata": {
      "needs_background": "light"
     },
     "output_type": "display_data"
    }
   ],
   "source": [
    "plt.figure(figsize=(10,8))\n",
    "lgb.plot_importance(model)\n",
    "plt.show()"
   ]
  },
  {
   "cell_type": "code",
   "execution_count": 18,
   "metadata": {},
   "outputs": [
    {
     "data": {
      "text/plain": [
       "{'learning_rate': 0.1,\n",
       " 'boosting_type': ['gbdt'],\n",
       " 'max_depth': 14,\n",
       " 'objective': ['regression'],\n",
       " 'feature_fraction': 0.6,\n",
       " 'bagging_fraction': 0.7,\n",
       " 'metric': ['mse'],\n",
       " 'num_iterations': 10000,\n",
       " 'early_stopping_round': 1000,\n",
       " 'categorical_column': [12, 13, 14, 16, 20, 22, 23]}"
      ]
     },
     "execution_count": 18,
     "metadata": {},
     "output_type": "execute_result"
    }
   ],
   "source": [
    "model.params"
   ]
  },
  {
   "cell_type": "markdown",
   "metadata": {},
   "source": [
    "## Predicting"
   ]
  },
  {
   "cell_type": "code",
   "execution_count": 19,
   "metadata": {},
   "outputs": [],
   "source": [
    "test_data['ln판매단가'] = list(map(logg,test_data['판매단가']))\n",
    "\n",
    "ttest_data = test_data[test_data['상품군']!='무형']\n",
    "\n",
    "df = ttest_data[['노출(분)', '마더코드', '상품코드','상품군',\"판매단가\", '취급액','검색률2',\n",
    "       'lng_time','강수량(mm)', '습도(%)', '기온_int', '1시간평균 미세먼지농도', '소비지출전망CSI',\n",
    "       '소비자심리지수','요일', 'pk_time_01', 'pk_times_prd', 'Open', '온라인 쇼핑몰 거래액','two_amt',\n",
    "        '시간_범주', '성별', '일/무', '상품차이','방송_월',\"ln판매단가\"]]\n",
    "\n",
    "encoder.fit(df['요일'])\n",
    "df['요일'] = encoder.transform(df['요일'])\n",
    "\n",
    "encoder.fit(df['시간_범주'])\n",
    "df['시간_범주'] = encoder.transform(df['시간_범주'])\n",
    "\n",
    "encoder.fit(df['상품군'])\n",
    "df['상품군'] = encoder.transform(df['상품군'])\n",
    "\n",
    "df['상품군'] = df['상품군'].astype('category')\n",
    "df['방송_월'] = df['방송_월'].astype('category')\n",
    "df['요일'] = df['요일'].astype('category')\n",
    "df['시간_범주'] = df['시간_범주'].astype('category')\n",
    "df['성별'] = df['성별'].astype('category')\n",
    "df['일/무'] = df['일/무'].astype('category')\n",
    "df['상품차이'] = df['상품차이'].astype('category')"
   ]
  },
  {
   "cell_type": "code",
   "execution_count": 20,
   "metadata": {},
   "outputs": [],
   "source": [
    "X_test = df[df.columns.difference([\"취급액\",'판매단가'])]"
   ]
  },
  {
   "cell_type": "code",
   "execution_count": 21,
   "metadata": {},
   "outputs": [],
   "source": [
    "y_pred = model.predict(X_test)\n",
    "y_pred = np.exp(y_pred)\n",
    "y_pred = y_pred*ttest_data['판매단가']"
   ]
  },
  {
   "cell_type": "code",
   "execution_count": 22,
   "metadata": {},
   "outputs": [],
   "source": [
    "del test_data['취급액']"
   ]
  },
  {
   "cell_type": "code",
   "execution_count": 23,
   "metadata": {},
   "outputs": [],
   "source": [
    "ttest_data['취급액'] = y_pred"
   ]
  },
  {
   "cell_type": "code",
   "execution_count": 24,
   "metadata": {},
   "outputs": [],
   "source": [
    "test_data = pd.merge(test_data,ttest_data[['방송일시', '노출(분)', '마더코드', '상품코드', '상품명', '상품군', '판매단가', '취급액']],how='left')"
   ]
  },
  {
   "cell_type": "code",
   "execution_count": 25,
   "metadata": {},
   "outputs": [],
   "source": [
    "test_data['취급액'] = test_data['취급액'].fillna(0)"
   ]
  },
  {
   "cell_type": "code",
   "execution_count": 26,
   "metadata": {},
   "outputs": [
    {
     "data": {
      "text/plain": [
       "0       1.414276e+07\n",
       "1       1.920918e+07\n",
       "2       2.737607e+07\n",
       "3       1.396547e+07\n",
       "4       2.240179e+07\n",
       "            ...     \n",
       "2883    8.120337e+06\n",
       "2884    1.556150e+07\n",
       "2885    1.948713e+07\n",
       "2889    9.025916e+06\n",
       "2890    9.631260e+06\n",
       "Name: 판매단가, Length: 2716, dtype: float64"
      ]
     },
     "execution_count": 26,
     "metadata": {},
     "output_type": "execute_result"
    }
   ],
   "source": [
    "y_pred"
   ]
  },
  {
   "cell_type": "code",
   "execution_count": 27,
   "metadata": {},
   "outputs": [],
   "source": [
    "test_data.to_csv('평가데이터_최종.csv',index=False, encoding='euc-kr')"
   ]
  }
 ],
 "metadata": {
  "kernelspec": {
   "display_name": "Python 3",
   "language": "python",
   "name": "python3"
  },
  "language_info": {
   "codemirror_mode": {
    "name": "ipython",
    "version": 3
   },
   "file_extension": ".py",
   "mimetype": "text/x-python",
   "name": "python",
   "nbconvert_exporter": "python",
   "pygments_lexer": "ipython3",
   "version": "3.7.4"
  }
 },
 "nbformat": 4,
 "nbformat_minor": 4
}
