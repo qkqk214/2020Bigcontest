{
 "cells": [
  {
   "cell_type": "markdown",
   "metadata": {},
   "source": [
    "### 필요한 모듈 불러오기"
   ]
  },
  {
   "cell_type": "code",
   "execution_count": 74,
   "metadata": {},
   "outputs": [],
   "source": [
    "import pandas as pd\n",
    "import numpy as np\n",
    "import matplotlib.pyplot as plt\n",
    "import seaborn as sns\n",
    "import math\n",
    "import warnings\n",
    "warnings.filterwarnings(action='ignore')\n",
    "\n",
    "from IPython.core.interactiveshell import InteractiveShell\n",
    "InteractiveShell.ast_node_interactivity ='all'\n",
    "\n",
    "import time\n",
    "from tqdm.notebook import tqdm\n",
    "\n",
    "import datetime\n",
    "from datetime import timedelta"
   ]
  },
  {
   "cell_type": "markdown",
   "metadata": {},
   "source": [
    "### 데이터 불러오기"
   ]
  },
  {
   "cell_type": "code",
   "execution_count": 105,
   "metadata": {},
   "outputs": [],
   "source": [
    "data =pd.read_json('data_v1_COM.json',orient='table')"
   ]
  },
  {
   "cell_type": "code",
   "execution_count": 107,
   "metadata": {},
   "outputs": [],
   "source": [
    "for i in range(0,len(data)):\n",
    "    if data[\"브랜드\"][i]==\"Nobrand\":\n",
    "        data[\"브랜드\"][i]=np.nan"
   ]
  },
  {
   "cell_type": "code",
   "execution_count": 108,
   "metadata": {},
   "outputs": [],
   "source": [
    "data.dropna(inplace=True) ## 브랜드가 없는 행은 지우고 병합 --> 추후 다시 병합예정"
   ]
  },
  {
   "cell_type": "markdown",
   "metadata": {},
   "source": [
    "### 브랜드 검색률 추가"
   ]
  },
  {
   "cell_type": "code",
   "execution_count": 109,
   "metadata": {},
   "outputs": [],
   "source": [
    "import copy"
   ]
  },
  {
   "cell_type": "code",
   "execution_count": 110,
   "metadata": {},
   "outputs": [
    {
     "data": {
      "text/plain": [
       "36113"
      ]
     },
     "execution_count": 110,
     "metadata": {},
     "output_type": "execute_result"
    }
   ],
   "source": [
    "a = copy.deepcopy(data[data.columns.difference([\"상품종류\",\"브랜드상품\"])])\n",
    "len(a)"
   ]
  },
  {
   "cell_type": "code",
   "execution_count": 111,
   "metadata": {},
   "outputs": [
    {
     "data": {
      "text/plain": [
       "Index(['방송일시', '노출(분)', '마더코드', '상품코드', '상품명', '상품군', '판매단가', '취급액', '브랜드',\n",
       "       '상품종류', '브랜드상품', '수량', '방송날짜', '방송_월', '방송_일', '판매일수'],\n",
       "      dtype='object')"
      ]
     },
     "execution_count": 111,
     "metadata": {},
     "output_type": "execute_result"
    }
   ],
   "source": [
    "data.columns"
   ]
  },
  {
   "cell_type": "code",
   "execution_count": 112,
   "metadata": {},
   "outputs": [],
   "source": [
    "a[\"방송날짜\"] = pd.to_datetime(a['방송날짜']).dt.tz_localize(None)"
   ]
  },
  {
   "cell_type": "code",
   "execution_count": 113,
   "metadata": {},
   "outputs": [
    {
     "data": {
      "application/vnd.jupyter.widget-view+json": {
       "model_id": "df845b29e8a7408e85429196fe0fe194",
       "version_major": 2,
       "version_minor": 0
      },
      "text/plain": [
       "HBox(children=(IntProgress(value=0, max=12), HTML(value='')))"
      ]
     },
     "metadata": {},
     "output_type": "display_data"
    },
    {
     "name": "stdout",
     "output_type": "stream",
     "text": [
      "4340 의류\n",
      "3901 속옷\n",
      "6529 주방\n",
      "2029 농수축\n",
      "1305 이미용\n",
      "6479 가전\n",
      "2863 생활용품\n",
      "559 건강기능\n",
      "3891 잡화\n",
      "928 무형\n",
      "2614 가구\n",
      "660 침구\n",
      "\n"
     ]
    }
   ],
   "source": [
    "import glob\n",
    "final = pd.DataFrame(columns=a.columns) ## 최종데이터\n",
    "상품군 = pd.unique(a[\"상품군\"])\n",
    "a[\"방송날짜\"] = pd.to_datetime(a[\"방송날짜\"])\n",
    "\n",
    "for i in tqdm(range(0,len(상품군))):\n",
    "    ## 파일 실행 위치에 맞게 변경\n",
    "    path = r'C:/Users/SEC/Desktop/매진임박/브랜드겁색_TRAIN/'+상품군[i]\n",
    "    all_files = glob.glob(path + \"/*.xlsx\")\n",
    "    noth = pd.DataFrame(columns=[\"방송날짜\",\"검색률\",\"브랜드\"])\n",
    "    for filename in all_files:\n",
    "        df = pd.read_excel(filename, header=6)\n",
    "        new = pd.DataFrame({\"방송날짜\" : df[\"날짜\"][-1:], \"검색률\" : df[df.columns[1]][-8:-1].mean(),\"브랜드\":df.columns[1]})\n",
    "        noth = pd.concat([noth,new])    \n",
    "\n",
    "    \n",
    "    mg1 = a[a[\"상품군\"]==상품군[i]][a[\"브랜드\"]==noth[\"브랜드\"].unique().tolist()[0]]\n",
    "    mg1[\"방송날짜\"] = pd.to_datetime(mg1[\"방송날짜\"])\n",
    "    mg2 = noth[noth[\"브랜드\"]==noth[\"브랜드\"].unique().tolist()[0]].reset_index(drop=True)\n",
    "    mg2[\"방송날짜\"] = pd.to_datetime(mg2[\"방송날짜\"])\n",
    "    new = pd.merge(mg1,mg2,how='left').fillna(method='ffill')\n",
    "    merge = pd.DataFrame(columns=new.columns)\n",
    "    merge = pd.concat([merge,new])\n",
    "    \n",
    "\n",
    "    for j in noth[\"브랜드\"].unique().tolist()[1:]:\n",
    "        mg1 = a[a[\"상품군\"]==상품군[i]][a[\"브랜드\"]==j]\n",
    "        mg1[\"방송날짜\"] = pd.to_datetime(mg1[\"방송날짜\"])\n",
    "        mg2 = noth[noth[\"브랜드\"]==j].reset_index(drop=True)\n",
    "        mg2[\"방송날짜\"] = pd.to_datetime(mg2[\"방송날짜\"])\n",
    "        new = pd.merge(mg1,mg2,how='left').fillna(method='ffill')\n",
    "        merge = pd.concat([merge,new])\n",
    "        \n",
    "    final = pd.concat([final,merge])\n",
    "    print(len(merge), 상품군[i])"
   ]
  },
  {
   "cell_type": "code",
   "execution_count": 117,
   "metadata": {},
   "outputs": [],
   "source": [
    "total = pd.merge(a,final,how='left').drop_duplicates().fillna(0)"
   ]
  },
  {
   "cell_type": "markdown",
   "metadata": {},
   "source": [
    "### 브랜드 + 상품명 검색률"
   ]
  },
  {
   "cell_type": "code",
   "execution_count": 119,
   "metadata": {},
   "outputs": [
    {
     "data": {
      "application/vnd.jupyter.widget-view+json": {
       "model_id": "5cab4cf5ae8947a081ee8f80de79edc9",
       "version_major": 2,
       "version_minor": 0
      },
      "text/plain": [
       "HBox(children=(IntProgress(value=0, max=12), HTML(value='')))"
      ]
     },
     "metadata": {},
     "output_type": "display_data"
    },
    {
     "name": "stdout",
     "output_type": "stream",
     "text": [
      "4340 의류\n",
      "3901 속옷\n",
      "6526 주방\n",
      "2029 농수축\n",
      "1305 이미용\n",
      "6479 가전\n",
      "2863 생활용품\n",
      "559 건강기능\n",
      "3891 잡화\n",
      "928 무형\n",
      "2614 가구\n",
      "660 침구\n",
      "\n"
     ]
    }
   ],
   "source": [
    "import glob\n",
    "final = pd.DataFrame(columns=a.columns) ## 최종데이터\n",
    "상품군 = pd.unique(a[\"상품군\"])\n",
    "a[\"방송날짜\"] = pd.to_datetime(a[\"방송날짜\"])\n",
    "\n",
    "for i in tqdm(range(0,len(상품군))):\n",
    "    ## 파일 실행 위치에 맞게 변경\n",
    "    path = r'C:/Users/SEC/Desktop/매진임박/브랜드상품검색_TRAIN/'+상품군[i]\n",
    "    all_files = glob.glob(path + \"/*.xlsx\")\n",
    "    noth = pd.DataFrame(columns=[\"방송날짜\",\"검색률2\",\"브랜드\"])\n",
    "    for filename in all_files:\n",
    "        df = pd.read_excel(filename, header=6)\n",
    "        new = pd.DataFrame({\"방송날짜\" : df[\"날짜\"][-1:], \"검색률2\" : df[df.columns[1]][-8:-1].mean(),\"브랜드\":df.columns[1]})\n",
    "        noth = pd.concat([noth,new])\n",
    "        \n",
    "    noth = noth.reset_index(drop=True)\n",
    "    for j in range(0,len(noth)):\n",
    "        noth[\"브랜드\"][j] = noth[\"브랜드\"][j].replace(',', '')\n",
    "        \n",
    "    noth = noth.drop_duplicates()\n",
    "    \n",
    "    mg1 = a[a[\"상품군\"]==상품군[i]][a[\"브랜드\"]==noth[\"브랜드\"].unique().tolist()[0]]\n",
    "    mg1[\"방송날짜\"] = pd.to_datetime(mg1[\"방송날짜\"])\n",
    "    mg2 = noth[noth[\"브랜드\"]==noth[\"브랜드\"].unique().tolist()[0]].reset_index(drop=True)\n",
    "    mg2[\"방송날짜\"] = pd.to_datetime(mg2[\"방송날짜\"])\n",
    "    new = pd.merge(mg1,mg2,how='left').fillna(method='ffill')\n",
    "    merge = pd.DataFrame(columns=new.columns)\n",
    "    merge = pd.concat([merge,new])\n",
    "    \n",
    "\n",
    "    for k in noth[\"브랜드\"].unique().tolist()[1:]:\n",
    "        mg1 = a[a[\"상품군\"]==상품군[i]][a[\"브랜드\"]==k]\n",
    "        mg1[\"방송날짜\"] = pd.to_datetime(mg1[\"방송날짜\"])\n",
    "        mg2 = noth[noth[\"브랜드\"]==k].reset_index(drop=True)\n",
    "        mg2[\"방송날짜\"] = pd.to_datetime(mg2[\"방송날짜\"])\n",
    "        new = pd.merge(mg1,mg2,how='left').fillna(method='ffill')\n",
    "        merge = pd.concat([merge,new])\n",
    "        \n",
    "    final = pd.concat([final,merge])\n",
    "    print(len(merge), 상품군[i])"
   ]
  },
  {
   "cell_type": "code",
   "execution_count": 123,
   "metadata": {},
   "outputs": [],
   "source": [
    "total2 = pd.merge(total,final,how='left').drop_duplicates().fillna(0)"
   ]
  },
  {
   "cell_type": "markdown",
   "metadata": {},
   "source": [
    "### 원본 데이터와 total 데이터 병합 후 브랜드이름 없는 행의 결측치 채우기"
   ]
  },
  {
   "cell_type": "code",
   "execution_count": 125,
   "metadata": {},
   "outputs": [],
   "source": [
    "data2 =pd.read_json('data_v1_COM.json',orient='table')\n",
    "\n",
    "data2[\"방송날짜\"] = pd.to_datetime(data2[\"방송날짜\"]).dt.tz_localize(None)\n",
    "\n",
    "data_v4 = pd.merge(data2,total2,how='left')"
   ]
  },
  {
   "cell_type": "markdown",
   "metadata": {},
   "source": [
    "- 브랜드 결측치   --> Nobrand\n",
    "- 판매일수 결측치 --> 해당 상품군의 판매일수로 대체\n",
    "- 검색률 결측치   --> fill_mean_func 함수를 통해 해당하는 상품군의 평균치로 대체"
   ]
  },
  {
   "cell_type": "code",
   "execution_count": 135,
   "metadata": {},
   "outputs": [],
   "source": [
    "fill_mean_func = lambda g: g.fillna(g.mean())\n",
    "\n",
    "data_v4 = data_v4.groupby('상품군').apply(fill_mean_func)\n",
    "data_v4.reset_index(drop=True,inplace=True)"
   ]
  },
  {
   "cell_type": "code",
   "execution_count": 136,
   "metadata": {},
   "outputs": [
    {
     "data": {
      "text/plain": [
       "38309"
      ]
     },
     "execution_count": 136,
     "metadata": {},
     "output_type": "execute_result"
    },
    {
     "data": {
      "text/plain": [
       "방송일시     0\n",
       "노출(분)    0\n",
       "마더코드     0\n",
       "상품코드     0\n",
       "상품명      0\n",
       "상품군      0\n",
       "판매단가     0\n",
       "취급액      0\n",
       "브랜드      0\n",
       "상품종류     0\n",
       "브랜드상품    0\n",
       "수량       0\n",
       "방송날짜     0\n",
       "방송_월     0\n",
       "방송_일     0\n",
       "판매일수     0\n",
       "검색률      0\n",
       "검색률2     0\n",
       "dtype: int64"
      ]
     },
     "execution_count": 136,
     "metadata": {},
     "output_type": "execute_result"
    }
   ],
   "source": [
    "len(data_v4)\n",
    "data_v4.isnull().sum()"
   ]
  },
  {
   "cell_type": "markdown",
   "metadata": {},
   "source": [
    "### 최종 데이터"
   ]
  },
  {
   "cell_type": "code",
   "execution_count": 137,
   "metadata": {},
   "outputs": [],
   "source": [
    "data_v4.to_json(\"data_v2_COM.json\",orient =\"table\")"
   ]
  }
 ],
 "metadata": {
  "kernelspec": {
   "display_name": "Python 3",
   "language": "python",
   "name": "python3"
  },
  "language_info": {
   "codemirror_mode": {
    "name": "ipython",
    "version": 3
   },
   "file_extension": ".py",
   "mimetype": "text/x-python",
   "name": "python",
   "nbconvert_exporter": "python",
   "pygments_lexer": "ipython3",
   "version": "3.8.5"
  }
 },
 "nbformat": 4,
 "nbformat_minor": 2
}
