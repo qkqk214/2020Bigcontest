{
 "cells": [
  {
   "cell_type": "code",
   "execution_count": 1,
   "metadata": {},
   "outputs": [
    {
     "name": "stderr",
     "output_type": "stream",
     "text": [
      "C:\\Users\\rhkd3\\Anaconda3\\lib\\site-packages\\statsmodels\\tools\\_testing.py:19: FutureWarning: pandas.util.testing is deprecated. Use the functions in the public API at pandas.testing instead.\n",
      "  import pandas.util.testing as tm\n"
     ]
    }
   ],
   "source": [
    "import pandas as pd\n",
    "import numpy as np\n",
    "from sklearn.compose import make_column_transformer\n",
    "from sklearn.model_selection import train_test_split\n",
    "from sklearn.preprocessing import OneHotEncoder\n",
    "from sklearn.ensemble import RandomForestRegressor\n",
    "from sklearn.model_selection import KFold, GridSearchCV\n",
    "from sklearn.ensemble import RandomForestRegressor\n",
    "from sklearn.model_selection import KFold\n",
    "from lightgbm import LGBMRegressor,plot_importance\n",
    "import lightgbm as lgb\n",
    "\n",
    "from sklearn.preprocessing import LabelEncoder\n",
    "encoder = LabelEncoder()\n",
    "import matplotlib.pyplot as plt\n",
    "from matplotlib import font_manager, rc\n",
    "rc('font',family = 'Malgun Gothic')\n",
    "import seaborn as sns\n",
    "import warnings\n",
    "warnings.filterwarnings(action='ignore')\n",
    "from sklearn.feature_selection import SelectFromModel\n",
    "np.random.seed(0)\n",
    "\n",
    "data = pd.read_json('data_v3_COM.json',orient='table')"
   ]
  },
  {
   "cell_type": "code",
   "execution_count": 2,
   "metadata": {},
   "outputs": [],
   "source": [
    "def MAPE(y_true, y_pred):\n",
    "    if y_true == 0:\n",
    "        return 0\n",
    "    else:\n",
    "        y_true, y_pred = np.array(y_true), np.array(y_pred)\n",
    "        return np.abs((y_true - y_pred) / y_true)"
   ]
  },
  {
   "cell_type": "markdown",
   "metadata": {},
   "source": [
    "# 01. 기본 제공 데이터"
   ]
  },
  {
   "cell_type": "code",
   "execution_count": 3,
   "metadata": {},
   "outputs": [],
   "source": [
    "df = data[['노출(분)', '마더코드', '상품코드', '상품군', '판매단가', '취급액']]\n",
    "cloths = df[df['상품군']=='의류']\n",
    "inwear = df[df['상품군']=='속옷']\n",
    "kitchen = df[df['상품군']=='주방']\n",
    "food = df[df['상품군']=='농수축']\n",
    "skin = df[df['상품군']=='이미용']\n",
    "digital = df[df['상품군']=='가전']\n",
    "items = df[df['상품군']=='생활용품']\n",
    "health = df[df['상품군']=='건강기능']\n",
    "stuff = df[df['상품군']=='잡화']\n",
    "furni = df[df['상품군']=='가구']\n",
    "bedd = df[df['상품군']=='침구']"
   ]
  },
  {
   "cell_type": "code",
   "execution_count": 4,
   "metadata": {},
   "outputs": [
    {
     "name": "stdout",
     "output_type": "stream",
     "text": [
      "기본제공데이터 RF mape:  64.57980482354881\n"
     ]
    }
   ],
   "source": [
    "X1 = cloths[cloths.columns.difference([\"취급액\"])]\n",
    "y1 = cloths[\"취급액\"]\n",
    "X1_train, X1_test, y1_train, y1_test = train_test_split(X1,y1,test_size=0.3,random_state=42)\n",
    "\n",
    "X2 = inwear[inwear.columns.difference([\"취급액\"])]\n",
    "y2 = inwear[\"취급액\"]\n",
    "X2_train, X2_test, y2_train, y2_test = train_test_split(X2,y2,test_size=0.3,random_state=42)\n",
    "\n",
    "X3 = kitchen[kitchen.columns.difference([\"취급액\"])]\n",
    "y3 = kitchen[\"취급액\"]\n",
    "X3_train, X3_test, y3_train, y3_test = train_test_split(X3,y3,test_size=0.3,random_state=42)\n",
    "\n",
    "X4 = food[food.columns.difference([\"취급액\"])]\n",
    "y4 = food[\"취급액\"]\n",
    "X4_train, X4_test, y4_train, y4_test = train_test_split(X4,y4,test_size=0.3,random_state=42)\n",
    "\n",
    "X5 = skin[skin.columns.difference([\"취급액\"])]\n",
    "y5 = skin[\"취급액\"]\n",
    "X5_train, X5_test, y5_train, y5_test = train_test_split(X5,y5,test_size=0.3,random_state=42)\n",
    "\n",
    "X6 = digital[digital.columns.difference([\"취급액\"])]\n",
    "y6 = digital[\"취급액\"]\n",
    "X6_train, X6_test, y6_train, y6_test = train_test_split(X6,y6,test_size=0.3,random_state=42)\n",
    "\n",
    "X7 = items[items.columns.difference([\"취급액\"])]\n",
    "y7 = items[\"취급액\"]\n",
    "X7_train, X7_test, y7_train, y7_test = train_test_split(X7,y7,test_size=0.3, random_state=42)\n",
    "\n",
    "X8 = health[health.columns.difference([\"취급액\"])]\n",
    "y8 = health[\"취급액\"]\n",
    "X8_train, X8_test, y8_train, y8_test = train_test_split(X8,y8,test_size=0.3,random_state=42)\n",
    "\n",
    "X9 = stuff[stuff.columns.difference([\"취급액\"])]\n",
    "y9 = stuff[\"취급액\"]\n",
    "X9_train, X9_test, y9_train, y9_test = train_test_split(X9,y9,test_size=0.3,random_state=42)\n",
    "\n",
    "X10 = furni[furni.columns.difference([\"취급액\"])]\n",
    "y10 = furni[\"취급액\"]\n",
    "X10_train, X10_test, y10_train, y10_test = train_test_split(X10,y10,test_size=0.3,random_state=42)\n",
    "\n",
    "X11 = bedd[bedd.columns.difference([\"취급액\"])]\n",
    "y11 = bedd[\"취급액\"]\n",
    "X11_train, X11_test, y11_train, y11_test = train_test_split(X11,y11,test_size=0.3,random_state=42)\n",
    "\n",
    "X_train = pd.concat([X1_train,X2_train,X3_train,X4_train,X5_train,X6_train,X7_train,X8_train,X9_train,X10_train,X11_train])\n",
    "X_test = pd.concat([X1_test,X2_test,X3_test,X4_test,X5_test,X6_test,X7_test,X8_test,X9_test,X10_test,X11_test])\n",
    "y_train = pd.concat([y1_train,y2_train,y3_train,y4_train,y5_train,y6_train,y7_train,y8_train,y9_train,y10_train,y11_train])\n",
    "y_test = pd.concat([y1_test,y2_test,y3_test,y4_test,y5_test,y6_test,y7_test,y8_test,y9_test,y10_test,y11_test])\n",
    "\n",
    "transformer = make_column_transformer(\n",
    "    (OneHotEncoder(), ['상품군']),\n",
    "    remainder='passthrough')\n",
    "transformer.fit(X_train)\n",
    "X_train = transformer.transform(X_train)\n",
    "X_test = transformer.transform(X_test)\n",
    "\n",
    "model = RandomForestRegressor(random_state=42,n_jobs=-1)\n",
    "model.fit(X_train, y_train)\n",
    "\n",
    "y_pred = model.predict(X_test)\n",
    "ss = []\n",
    "for i in range(len(y_pred)):\n",
    "    ss.append(MAPE(y_test.tolist()[i],y_pred[i]))\n",
    "mape=np.array(ss).mean()*100\n",
    "print('기본제공데이터 RF mape: ',mape)"
   ]
  },
  {
   "cell_type": "markdown",
   "metadata": {},
   "source": [
    "# 최종 선정된 데이터"
   ]
  },
  {
   "cell_type": "code",
   "execution_count": 5,
   "metadata": {},
   "outputs": [],
   "source": [
    "df = data[[ '상품군','상품코드','마더코드', '판매단가', '취급액','수량','검색률2','방송_월',\n",
    "       'lng_time','강수량(mm)', '습도(%)', '기온_int', '1시간평균 미세먼지농도', '소비지출전망CSI',\n",
    "       '소비자심리지수','요일', 'pk_time_01', 'pk_times_prd', 'Open', '온라인 쇼핑몰 거래액','two_amt',\n",
    "        '시간_범주', '성별', '일/무', '상품차이']]\n",
    "\n",
    "cloths = df[df['상품군']=='의류']\n",
    "inwear = df[df['상품군']=='속옷']\n",
    "kitchen = df[df['상품군']=='주방']\n",
    "food = df[df['상품군']=='농수축']\n",
    "skin = df[df['상품군']=='이미용']\n",
    "digital = df[df['상품군']=='가전']\n",
    "items = df[df['상품군']=='생활용품']\n",
    "health = df[df['상품군']=='건강기능']\n",
    "stuff = df[df['상품군']=='잡화']\n",
    "furni = df[df['상품군']=='가구']\n",
    "bedd = df[df['상품군']=='침구']\n",
    "\n",
    "X1 = cloths[cloths.columns.difference([\"취급액\",\"수량\"])]\n",
    "y1 = cloths[\"취급액\"]\n",
    "X1_train, X1_test, y1_train, y1_test = train_test_split(X1,y1,test_size=0.3,random_state=42)\n",
    "\n",
    "X2 = inwear[inwear.columns.difference([\"취급액\",\"수량\"])]\n",
    "y2 = inwear[\"취급액\"]\n",
    "X2_train, X2_test, y2_train, y2_test = train_test_split(X2,y2,test_size=0.3,random_state=42)\n",
    "\n",
    "X3 = kitchen[kitchen.columns.difference([\"취급액\",\"수량\"])]\n",
    "y3 = kitchen[\"취급액\"]\n",
    "X3_train, X3_test, y3_train, y3_test = train_test_split(X3,y3,test_size=0.3,random_state=42)\n",
    "\n",
    "X4 = food[food.columns.difference([\"취급액\",\"수량\"])]\n",
    "y4 = food[\"취급액\"]\n",
    "X4_train, X4_test, y4_train, y4_test = train_test_split(X4,y4,test_size=0.3,random_state=42)\n",
    "\n",
    "X5 = skin[skin.columns.difference([\"취급액\",\"수량\"])]\n",
    "y5 = skin[\"취급액\"]\n",
    "X5_train, X5_test, y5_train, y5_test = train_test_split(X5,y5,test_size=0.3,random_state=42)\n",
    "\n",
    "X6 = digital[digital.columns.difference([\"취급액\",\"수량\"])]\n",
    "y6 = digital[\"취급액\"]\n",
    "X6_train, X6_test, y6_train, y6_test = train_test_split(X6,y6,test_size=0.3,random_state=42)\n",
    "\n",
    "X7 = items[items.columns.difference([\"취급액\",\"수량\"])]\n",
    "y7 = items[\"취급액\"]\n",
    "X7_train, X7_test, y7_train, y7_test = train_test_split(X7,y7,test_size=0.3, random_state=42)\n",
    "\n",
    "X8 = health[health.columns.difference([\"취급액\",\"수량\"])]\n",
    "y8 = health[\"취급액\"]\n",
    "X8_train, X8_test, y8_train, y8_test = train_test_split(X8,y8,test_size=0.3,random_state=42)\n",
    "\n",
    "X9 = stuff[stuff.columns.difference([\"취급액\",\"수량\"])]\n",
    "y9 = stuff[\"취급액\"]\n",
    "X9_train, X9_test, y9_train, y9_test = train_test_split(X9,y9,test_size=0.3,random_state=42)\n",
    "\n",
    "X10 = furni[furni.columns.difference([\"취급액\",\"수량\"])]\n",
    "y10 = furni[\"취급액\"]\n",
    "X10_train, X10_test, y10_train, y10_test = train_test_split(X10,y10,test_size=0.3,random_state=42)\n",
    "\n",
    "X11 = bedd[bedd.columns.difference([\"취급액\",\"수량\"])]\n",
    "y11 = bedd[\"취급액\"]\n",
    "X11_train, X11_test, y11_train, y11_test = train_test_split(X11,y11,test_size=0.3,random_state=42)\n",
    "\n",
    "X_train = pd.concat([X1_train,X2_train,X3_train,X4_train,X5_train,X6_train,X7_train,X8_train,X9_train,X10_train,X11_train])\n",
    "X_test = pd.concat([X1_test,X2_test,X3_test,X4_test,X5_test,X6_test,X7_test,X8_test,X9_test,X10_test,X11_test])\n",
    "y_train = pd.concat([y1_train,y2_train,y3_train,y4_train,y5_train,y6_train,y7_train,y8_train,y9_train,y10_train,y11_train])\n",
    "y_test = pd.concat([y1_test,y2_test,y3_test,y4_test,y5_test,y6_test,y7_test,y8_test,y9_test,y10_test,y11_test])"
   ]
  },
  {
   "cell_type": "code",
   "execution_count": 6,
   "metadata": {},
   "outputs": [
    {
     "name": "stdout",
     "output_type": "stream",
     "text": [
      "RF 전체 mape:  60.12692527933334\n"
     ]
    }
   ],
   "source": [
    "transformer = make_column_transformer(\n",
    "    (OneHotEncoder(), ['상품군','요일','시간_범주', '성별', '일/무', '상품차이']),\n",
    "    remainder='passthrough')\n",
    "transformer.fit(X_train)\n",
    "X_train = transformer.transform(X_train)\n",
    "X_test = transformer.transform(X_test)\n",
    "model = RandomForestRegressor(random_state=42,n_jobs=-1)\n",
    "\n",
    "model.fit(X_train, y_train)\n",
    "\n",
    "y_pred = model.predict(X_test)\n",
    "ss = []\n",
    "for i in range(len(y_pred)):\n",
    "    ss.append(MAPE(y_test.tolist()[i],y_pred[i]))\n",
    "mape=np.array(ss).mean()*100\n",
    "print('RF 전체 mape: ',mape)"
   ]
  },
  {
   "cell_type": "markdown",
   "metadata": {},
   "source": [
    "# 판매단가가 비슷한 상품군 확인"
   ]
  },
  {
   "cell_type": "code",
   "execution_count": 7,
   "metadata": {},
   "outputs": [
    {
     "data": {
      "text/html": [
       "<div>\n",
       "<style scoped>\n",
       "    .dataframe tbody tr th:only-of-type {\n",
       "        vertical-align: middle;\n",
       "    }\n",
       "\n",
       "    .dataframe tbody tr th {\n",
       "        vertical-align: top;\n",
       "    }\n",
       "\n",
       "    .dataframe thead th {\n",
       "        text-align: right;\n",
       "    }\n",
       "</style>\n",
       "<table border=\"1\" class=\"dataframe\">\n",
       "  <thead>\n",
       "    <tr style=\"text-align: right;\">\n",
       "      <th></th>\n",
       "      <th>상품군</th>\n",
       "      <th>판매단가</th>\n",
       "    </tr>\n",
       "  </thead>\n",
       "  <tbody>\n",
       "    <tr>\n",
       "      <th>0</th>\n",
       "      <td>가구</td>\n",
       "      <td>8.434763e+05</td>\n",
       "    </tr>\n",
       "    <tr>\n",
       "      <th>1</th>\n",
       "      <td>가전</td>\n",
       "      <td>1.631382e+06</td>\n",
       "    </tr>\n",
       "    <tr>\n",
       "      <th>2</th>\n",
       "      <td>건강기능</td>\n",
       "      <td>8.332430e+04</td>\n",
       "    </tr>\n",
       "    <tr>\n",
       "      <th>3</th>\n",
       "      <td>농수축</td>\n",
       "      <td>4.642264e+04</td>\n",
       "    </tr>\n",
       "    <tr>\n",
       "      <th>4</th>\n",
       "      <td>생활용품</td>\n",
       "      <td>1.864539e+05</td>\n",
       "    </tr>\n",
       "    <tr>\n",
       "      <th>5</th>\n",
       "      <td>속옷</td>\n",
       "      <td>7.798127e+04</td>\n",
       "    </tr>\n",
       "    <tr>\n",
       "      <th>6</th>\n",
       "      <td>의류</td>\n",
       "      <td>1.555425e+05</td>\n",
       "    </tr>\n",
       "    <tr>\n",
       "      <th>7</th>\n",
       "      <td>이미용</td>\n",
       "      <td>5.103004e+04</td>\n",
       "    </tr>\n",
       "    <tr>\n",
       "      <th>8</th>\n",
       "      <td>잡화</td>\n",
       "      <td>4.694785e+05</td>\n",
       "    </tr>\n",
       "    <tr>\n",
       "      <th>9</th>\n",
       "      <td>주방</td>\n",
       "      <td>1.524328e+05</td>\n",
       "    </tr>\n",
       "    <tr>\n",
       "      <th>10</th>\n",
       "      <td>침구</td>\n",
       "      <td>7.856951e+04</td>\n",
       "    </tr>\n",
       "  </tbody>\n",
       "</table>\n",
       "</div>"
      ],
      "text/plain": [
       "     상품군          판매단가\n",
       "0     가구  8.434763e+05\n",
       "1     가전  1.631382e+06\n",
       "2   건강기능  8.332430e+04\n",
       "3    농수축  4.642264e+04\n",
       "4   생활용품  1.864539e+05\n",
       "5     속옷  7.798127e+04\n",
       "6     의류  1.555425e+05\n",
       "7    이미용  5.103004e+04\n",
       "8     잡화  4.694785e+05\n",
       "9     주방  1.524328e+05\n",
       "10    침구  7.856951e+04"
      ]
     },
     "execution_count": 7,
     "metadata": {},
     "output_type": "execute_result"
    }
   ],
   "source": [
    "a = pd.pivot_table(data[data['상품군']!='무형'],index=['상품군'],values='판매단가',aggfunc='mean').reset_index()\n",
    "a"
   ]
  },
  {
   "cell_type": "markdown",
   "metadata": {},
   "source": [
    "# 01. RF"
   ]
  },
  {
   "cell_type": "code",
   "execution_count": 8,
   "metadata": {},
   "outputs": [],
   "source": [
    "df = data[[ '상품군', '판매단가', '취급액','수량','검색률2',\n",
    "       'lng_time','강수량(mm)', '습도(%)', '기온_int', '1시간평균 미세먼지농도', '소비지출전망CSI',\n",
    "       '소비자심리지수','요일', 'pk_time_01', 'pk_times_prd', 'Open', '온라인 쇼핑몰 거래액','two_amt',\n",
    "        '시간_범주', '성별', '일/무', '상품차이','방송_월']]\n",
    "cloths = df[df['상품군']=='의류']\n",
    "inwear = df[df['상품군']=='속옷']\n",
    "kitchen = df[df['상품군']=='주방']\n",
    "food = df[df['상품군']=='농수축']\n",
    "skin = df[df['상품군']=='이미용']\n",
    "digital = df[df['상품군']=='가전']\n",
    "items = df[df['상품군']=='생활용품']\n",
    "health = df[df['상품군']=='건강기능']\n",
    "stuff = df[df['상품군']=='잡화']\n",
    "furni = df[df['상품군']=='가구']\n",
    "bedd = df[df['상품군']=='침구']"
   ]
  },
  {
   "cell_type": "code",
   "execution_count": 9,
   "metadata": {},
   "outputs": [],
   "source": [
    "X1 = cloths[cloths.columns.difference([\"취급액\",\"수량\"])]\n",
    "y1 = cloths[\"취급액\"]\n",
    "X1_train, X1_test, y1_train, y1_test = train_test_split(X1,y1,test_size=0.3,random_state=42)\n",
    "\n",
    "X2 = inwear[inwear.columns.difference([\"취급액\",\"수량\"])]\n",
    "y2 = inwear[\"취급액\"]\n",
    "X2_train, X2_test, y2_train, y2_test = train_test_split(X2,y2,test_size=0.3,random_state=42)\n",
    "\n",
    "X3 = kitchen[kitchen.columns.difference([\"취급액\",\"수량\"])]\n",
    "y3 = kitchen[\"취급액\"]\n",
    "X3_train, X3_test, y3_train, y3_test = train_test_split(X3,y3,test_size=0.3,random_state=42)\n",
    "\n",
    "X4 = food[food.columns.difference([\"취급액\",\"수량\"])]\n",
    "y4 = food[\"취급액\"]\n",
    "X4_train, X4_test, y4_train, y4_test = train_test_split(X4,y4,test_size=0.3,random_state=42)\n",
    "\n",
    "X5 = skin[skin.columns.difference([\"취급액\",\"수량\"])]\n",
    "y5 = skin[\"취급액\"]\n",
    "X5_train, X5_test, y5_train, y5_test = train_test_split(X5,y5,test_size=0.3,random_state=42)\n",
    "\n",
    "X6 = digital[digital.columns.difference([\"취급액\",\"수량\"])]\n",
    "y6 = digital[\"취급액\"]\n",
    "X6_train, X6_test, y6_train, y6_test = train_test_split(X6,y6,test_size=0.3,random_state=42)\n",
    "\n",
    "X7 = items[items.columns.difference([\"취급액\",\"수량\"])]\n",
    "y7 = items[\"취급액\"]\n",
    "X7_train, X7_test, y7_train, y7_test = train_test_split(X7,y7,test_size=0.3, random_state=42)\n",
    "\n",
    "X8 = health[health.columns.difference([\"취급액\",\"수량\"])]\n",
    "y8 = health[\"취급액\"]\n",
    "X8_train, X8_test, y8_train, y8_test = train_test_split(X8,y8,test_size=0.3,random_state=42)\n",
    "\n",
    "X9 = stuff[stuff.columns.difference([\"취급액\",\"수량\"])]\n",
    "y9 = stuff[\"취급액\"]\n",
    "X9_train, X9_test, y9_train, y9_test = train_test_split(X9,y9,test_size=0.3,random_state=42)\n",
    "\n",
    "X10 = furni[furni.columns.difference([\"취급액\",\"수량\"])]\n",
    "y10 = furni[\"취급액\"]\n",
    "X10_train, X10_test, y10_train, y10_test = train_test_split(X10,y10,test_size=0.3,random_state=42)\n",
    "\n",
    "X11 = bedd[bedd.columns.difference([\"취급액\",\"수량\"])]\n",
    "y11 = bedd[\"취급액\"]\n",
    "X11_train, X11_test, y11_train, y11_test = train_test_split(X11,y11,test_size=0.3,random_state=42)\n",
    "\n",
    "x1_train = pd.concat([X10_train,X6_train,X9_train])\n",
    "x2_train = pd.concat([X7_train,X1_train,X3_train])\n",
    "x3_train = pd.concat([X2_train,X4_train,X5_train,X8_train,X11_train])\n",
    "x1_test = pd.concat([X10_test,X6_test,X9_test])\n",
    "x2_test = pd.concat([X7_test,X1_test,X3_test])\n",
    "x3_test = pd.concat([X2_test,X4_test,X5_test,X8_test,X11_test])\n",
    "yy1_train = pd.concat([y10_train,y6_train,y9_train])\n",
    "yy2_train = pd.concat([y7_train,y1_train,y3_train])\n",
    "yy3_train = pd.concat([y2_train,y4_train,y5_train,y8_train,y11_train])\n",
    "yy1_test = pd.concat([y10_test,y6_test,y9_test])\n",
    "yy2_test = pd.concat([y7_test,y1_test,y3_test])\n",
    "yy3_test = pd.concat([y2_test,y4_test,y5_test,y8_test,y11_test])"
   ]
  },
  {
   "cell_type": "markdown",
   "metadata": {},
   "source": [
    "### RF model 1_가구, 가전, 잡화"
   ]
  },
  {
   "cell_type": "code",
   "execution_count": 10,
   "metadata": {},
   "outputs": [],
   "source": [
    "transformer = make_column_transformer(\n",
    "    (OneHotEncoder(), ['상품군','요일','시간_범주', '성별', '일/무', '상품차이']),\n",
    "    remainder='passthrough')\n",
    "transformer.fit(x1_train)\n",
    "x1_train = transformer.transform(x1_train)\n",
    "x1_test = transformer.transform(x1_test)"
   ]
  },
  {
   "cell_type": "code",
   "execution_count": 11,
   "metadata": {},
   "outputs": [
    {
     "name": "stdout",
     "output_type": "stream",
     "text": [
      "최적 하이퍼 파라미터:  {'n_estimators': 500, 'min_samples_split': 16, 'min_samples_leaf': 8, 'max_depth': 10}\n",
      "최고 예측 정확도: 0.4179\n"
     ]
    }
   ],
   "source": [
    "from sklearn.model_selection import RandomizedSearchCV\n",
    "params = { 'n_estimators' : [200,300,400,500],\n",
    "           'max_depth' : list(range(10,14)),\n",
    "           'min_samples_leaf' : [8, 12, 18],\n",
    "           'min_samples_split' : [8, 16, 20]\n",
    "            }\n",
    "\n",
    "# RandomForestClassifier 객체 생성 후 GridSearchCV 수행\n",
    "rf_clf = RandomForestRegressor(random_state=42)\n",
    "random_cv = RandomizedSearchCV(estimator=rf_clf,\n",
    "                               param_distributions = params,\n",
    "                               cv = 5,\n",
    "                               n_jobs = -1)\n",
    "random_cv.fit(x1_train, yy1_train)\n",
    "\n",
    "print('최적 하이퍼 파라미터: ', random_cv.best_params_)\n",
    "print('최고 예측 정확도: {:.4f}'.format(random_cv.best_score_))"
   ]
  },
  {
   "cell_type": "code",
   "execution_count": 12,
   "metadata": {},
   "outputs": [
    {
     "data": {
      "text/plain": [
       "{'n_estimators': 500,\n",
       " 'min_samples_split': 16,\n",
       " 'min_samples_leaf': 8,\n",
       " 'max_depth': 10}"
      ]
     },
     "execution_count": 12,
     "metadata": {},
     "output_type": "execute_result"
    }
   ],
   "source": [
    "random_cv.best_params_"
   ]
  },
  {
   "cell_type": "code",
   "execution_count": 13,
   "metadata": {
    "scrolled": true
   },
   "outputs": [
    {
     "data": {
      "text/plain": [
       "RandomForestRegressor(bootstrap=True, ccp_alpha=0.0, criterion='mse',\n",
       "                      max_depth=10, max_features='auto', max_leaf_nodes=None,\n",
       "                      max_samples=None, min_impurity_decrease=0.0,\n",
       "                      min_impurity_split=None, min_samples_leaf=8,\n",
       "                      min_samples_split=16, min_weight_fraction_leaf=0.0,\n",
       "                      n_estimators=500, n_jobs=-1, oob_score=False,\n",
       "                      random_state=500, verbose=0, warm_start=False)"
      ]
     },
     "execution_count": 13,
     "metadata": {},
     "output_type": "execute_result"
    }
   ],
   "source": [
    "model1 = RandomForestRegressor(random_state=500, \n",
    "                               max_depth= random_cv.best_params_['max_depth'],\n",
    "                               min_samples_leaf=random_cv.best_params_['min_samples_leaf'], \n",
    "                               min_samples_split=random_cv.best_params_['min_samples_split'],\n",
    "                               n_estimators=random_cv.best_params_['n_estimators'],\n",
    "                               n_jobs=-1)\n",
    "model1.fit(x1_train,yy1_train)"
   ]
  },
  {
   "cell_type": "code",
   "execution_count": 14,
   "metadata": {
    "scrolled": true
   },
   "outputs": [
    {
     "name": "stdout",
     "output_type": "stream",
     "text": [
      "Train Score: 0.7082722860238386\n",
      "Test Score: 0.6065200518242969\n"
     ]
    }
   ],
   "source": [
    "print(\"Train Score:\", model1.score(x1_train, yy1_train))\n",
    "print(\"Test Score:\", model1.score(x1_test, yy1_test))"
   ]
  },
  {
   "cell_type": "code",
   "execution_count": 15,
   "metadata": {},
   "outputs": [
    {
     "name": "stdout",
     "output_type": "stream",
     "text": [
      "RF model 1 mape:  47.47256287595179\n"
     ]
    }
   ],
   "source": [
    "yy1_pred = model1.predict(x1_train)\n",
    "ss1 = []\n",
    "for i in range(len(yy1_pred)):\n",
    "    ss1.append(MAPE(yy1_train.tolist()[i],yy1_pred[i]))\n",
    "mape1=np.array(ss1).mean()*100\n",
    "print('RF model 1 mape: ',mape1)"
   ]
  },
  {
   "cell_type": "code",
   "execution_count": 16,
   "metadata": {},
   "outputs": [
    {
     "name": "stdout",
     "output_type": "stream",
     "text": [
      "RF model 1 mape:  58.147022153306324\n"
     ]
    }
   ],
   "source": [
    "yy1_pred = model1.predict(x1_test)\n",
    "ss1 = []\n",
    "for i in range(len(yy1_pred)):\n",
    "    ss1.append(MAPE(yy1_test.tolist()[i],yy1_pred[i]))\n",
    "mape1=np.array(ss1).mean()*100\n",
    "print('RF model 1 mape: ',mape1)"
   ]
  },
  {
   "cell_type": "markdown",
   "metadata": {},
   "source": [
    "### RF model 2_생활용품, 의류, 주방"
   ]
  },
  {
   "cell_type": "code",
   "execution_count": 17,
   "metadata": {},
   "outputs": [],
   "source": [
    "transformer = make_column_transformer(\n",
    "    (OneHotEncoder(), ['상품군','요일','시간_범주', '성별', '일/무', '상품차이']),\n",
    "    remainder='passthrough')\n",
    "transformer.fit(x2_train)\n",
    "x2_train = transformer.transform(x2_train)\n",
    "x2_test = transformer.transform(x2_test)"
   ]
  },
  {
   "cell_type": "code",
   "execution_count": 18,
   "metadata": {},
   "outputs": [
    {
     "name": "stdout",
     "output_type": "stream",
     "text": [
      "최적 하이퍼 파라미터:  {'n_estimators': 500, 'min_samples_split': 20, 'min_samples_leaf': 8, 'max_depth': 13}\n",
      "최고 예측 정확도: 0.6145\n"
     ]
    }
   ],
   "source": [
    "from sklearn.model_selection import RandomizedSearchCV\n",
    "params = { 'n_estimators' : [200,300,400,500],\n",
    "           'max_depth' : list(range(10,14)),\n",
    "           'min_samples_leaf' : [8, 12, 18],\n",
    "           'min_samples_split' : [8, 16, 20]\n",
    "            }\n",
    "\n",
    "# RandomForestClassifier 객체 생성 후 GridSearchCV 수행\n",
    "rf_clf = RandomForestRegressor(random_state=42)\n",
    "random_cv = RandomizedSearchCV(estimator=rf_clf,\n",
    "                               param_distributions = params,\n",
    "                               cv = 5,\n",
    "                               n_jobs = -1)\n",
    "random_cv.fit(x2_train, yy2_train)\n",
    "\n",
    "print('최적 하이퍼 파라미터: ', random_cv.best_params_)\n",
    "print('최고 예측 정확도: {:.4f}'.format(random_cv.best_score_))"
   ]
  },
  {
   "cell_type": "code",
   "execution_count": 19,
   "metadata": {},
   "outputs": [
    {
     "data": {
      "text/plain": [
       "RandomForestRegressor(bootstrap=True, ccp_alpha=0.0, criterion='mse',\n",
       "                      max_depth=13, max_features='auto', max_leaf_nodes=None,\n",
       "                      max_samples=None, min_impurity_decrease=0.0,\n",
       "                      min_impurity_split=None, min_samples_leaf=8,\n",
       "                      min_samples_split=20, min_weight_fraction_leaf=0.0,\n",
       "                      n_estimators=500, n_jobs=-1, oob_score=False,\n",
       "                      random_state=500, verbose=0, warm_start=False)"
      ]
     },
     "execution_count": 19,
     "metadata": {},
     "output_type": "execute_result"
    }
   ],
   "source": [
    "model2 = RandomForestRegressor(random_state=500, \n",
    "                               max_depth= random_cv.best_params_['max_depth'],\n",
    "                               min_samples_leaf=random_cv.best_params_['min_samples_leaf'], \n",
    "                               min_samples_split=random_cv.best_params_['min_samples_split'],\n",
    "                               n_estimators=random_cv.best_params_['n_estimators'],\n",
    "                               n_jobs=-1)\n",
    "model2.fit(x2_train,yy2_train)"
   ]
  },
  {
   "cell_type": "code",
   "execution_count": 20,
   "metadata": {},
   "outputs": [
    {
     "name": "stdout",
     "output_type": "stream",
     "text": [
      "Train Score: 0.791730866010184\n",
      "Test Score: 0.6686777653558067\n"
     ]
    }
   ],
   "source": [
    "print(\"Train Score:\", model2.score(x2_train, yy2_train))\n",
    "print(\"Test Score:\", model2.score(x2_test, yy2_test))"
   ]
  },
  {
   "cell_type": "code",
   "execution_count": 21,
   "metadata": {},
   "outputs": [
    {
     "name": "stdout",
     "output_type": "stream",
     "text": [
      "RF model 1 mape:  53.93573282901303\n"
     ]
    }
   ],
   "source": [
    "yy2_pred = model2.predict(x2_train)\n",
    "ss2 = []\n",
    "for i in range(len(yy2_pred)):\n",
    "    ss2.append(MAPE(yy2_train.tolist()[i],yy2_pred[i]))\n",
    "mape2=np.array(ss2).mean()*100\n",
    "print('RF model 1 mape: ',mape2)"
   ]
  },
  {
   "cell_type": "code",
   "execution_count": 22,
   "metadata": {},
   "outputs": [
    {
     "name": "stdout",
     "output_type": "stream",
     "text": [
      "RF model 1 mape:  72.88807832061231\n"
     ]
    }
   ],
   "source": [
    "yy2_pred = model2.predict(x2_test)\n",
    "ss2 = []\n",
    "for i in range(len(yy2_pred)):\n",
    "    ss2.append(MAPE(yy2_test.tolist()[i],yy2_pred[i]))\n",
    "mape2=np.array(ss2).mean()*100\n",
    "print('RF model 1 mape: ',mape2)"
   ]
  },
  {
   "cell_type": "markdown",
   "metadata": {},
   "source": [
    "### RF model 3_건강기능, 농수축, 속옷, 이미용, 침구"
   ]
  },
  {
   "cell_type": "code",
   "execution_count": 23,
   "metadata": {},
   "outputs": [],
   "source": [
    "transformer = make_column_transformer(\n",
    "    (OneHotEncoder(), ['상품군','요일','시간_범주', '성별', '일/무', '상품차이']),\n",
    "    remainder='passthrough')\n",
    "transformer.fit(x3_train)\n",
    "x3_train = transformer.transform(x3_train)\n",
    "x3_test = transformer.transform(x3_test)"
   ]
  },
  {
   "cell_type": "code",
   "execution_count": 24,
   "metadata": {},
   "outputs": [
    {
     "name": "stdout",
     "output_type": "stream",
     "text": [
      "최적 하이퍼 파라미터:  {'n_estimators': 400, 'min_samples_split': 20, 'min_samples_leaf': 8, 'max_depth': 10}\n",
      "최고 예측 정확도: 0.5526\n"
     ]
    }
   ],
   "source": [
    "from sklearn.model_selection import RandomizedSearchCV\n",
    "params = { 'n_estimators' : [200,300,400,500],\n",
    "           'max_depth' : list(range(10,14)),\n",
    "           'min_samples_leaf' : [8, 12, 18],\n",
    "           'min_samples_split' : [8, 16, 20]\n",
    "            }\n",
    "\n",
    "# RandomForestClassifier 객체 생성 후 GridSearchCV 수행\n",
    "rf_clf = RandomForestRegressor(random_state=42)\n",
    "random_cv = RandomizedSearchCV(estimator=rf_clf,\n",
    "                               param_distributions = params,\n",
    "                               cv = 5,\n",
    "                               n_jobs = -1)\n",
    "random_cv.fit(x3_train, yy3_train)\n",
    "\n",
    "print('최적 하이퍼 파라미터: ', random_cv.best_params_)\n",
    "print('최고 예측 정확도: {:.4f}'.format(random_cv.best_score_))"
   ]
  },
  {
   "cell_type": "code",
   "execution_count": 25,
   "metadata": {},
   "outputs": [
    {
     "data": {
      "text/plain": [
       "RandomForestRegressor(bootstrap=True, ccp_alpha=0.0, criterion='mse',\n",
       "                      max_depth=10, max_features='auto', max_leaf_nodes=None,\n",
       "                      max_samples=None, min_impurity_decrease=0.0,\n",
       "                      min_impurity_split=None, min_samples_leaf=8,\n",
       "                      min_samples_split=20, min_weight_fraction_leaf=0.0,\n",
       "                      n_estimators=400, n_jobs=-1, oob_score=False,\n",
       "                      random_state=500, verbose=0, warm_start=False)"
      ]
     },
     "execution_count": 25,
     "metadata": {},
     "output_type": "execute_result"
    }
   ],
   "source": [
    "model3 = RandomForestRegressor(random_state=500, \n",
    "                               max_depth= random_cv.best_params_['max_depth'],\n",
    "                               min_samples_leaf=random_cv.best_params_['min_samples_leaf'], \n",
    "                               min_samples_split=random_cv.best_params_['min_samples_split'],\n",
    "                               n_estimators=random_cv.best_params_['n_estimators'],\n",
    "                               n_jobs=-1)\n",
    "model3.fit(x3_train,yy3_train)"
   ]
  },
  {
   "cell_type": "code",
   "execution_count": 26,
   "metadata": {},
   "outputs": [
    {
     "name": "stdout",
     "output_type": "stream",
     "text": [
      "Train Score: 0.740312603786435\n",
      "Test Score: 0.6472885721015846\n"
     ]
    }
   ],
   "source": [
    "print(\"Train Score:\", model3.score(x3_train, yy3_train))\n",
    "print(\"Test Score:\", model3.score(x3_test, yy3_test))"
   ]
  },
  {
   "cell_type": "code",
   "execution_count": 27,
   "metadata": {},
   "outputs": [
    {
     "name": "stdout",
     "output_type": "stream",
     "text": [
      "RF model 3 mape:  50.0386002434837\n"
     ]
    }
   ],
   "source": [
    "yy3_pred = model3.predict(x3_train)\n",
    "ss3 = []\n",
    "for i in range(len(yy3_pred)):\n",
    "    ss3.append(MAPE(yy3_train.tolist()[i],yy3_pred[i]))\n",
    "mape3=np.array(ss3).mean()*100\n",
    "print('RF model 3 mape: ',mape3)"
   ]
  },
  {
   "cell_type": "code",
   "execution_count": 28,
   "metadata": {},
   "outputs": [
    {
     "name": "stdout",
     "output_type": "stream",
     "text": [
      "RF model 1 mape:  59.21673552447469\n"
     ]
    }
   ],
   "source": [
    "yy3_pred = model3.predict(x3_test)\n",
    "ss3 = []\n",
    "for i in range(len(yy3_pred)):\n",
    "    ss3.append(MAPE(yy3_test.tolist()[i],yy3_pred[i]))\n",
    "mape3=np.array(ss3).mean()*100\n",
    "print('RF model 1 mape: ',mape3)"
   ]
  },
  {
   "cell_type": "markdown",
   "metadata": {},
   "source": [
    "## RF models mape"
   ]
  },
  {
   "cell_type": "code",
   "execution_count": 29,
   "metadata": {},
   "outputs": [
    {
     "data": {
      "text/plain": [
       "63.90112005647679"
      ]
     },
     "execution_count": 29,
     "metadata": {},
     "output_type": "execute_result"
    }
   ],
   "source": [
    "np.mean(ss1+ss2+ss3)*100"
   ]
  },
  {
   "cell_type": "markdown",
   "metadata": {},
   "source": [
    "# 01. RandomForest"
   ]
  },
  {
   "cell_type": "markdown",
   "metadata": {},
   "source": [
    "# 타겟의 변환 target을 log"
   ]
  },
  {
   "cell_type": "code",
   "execution_count": 30,
   "metadata": {},
   "outputs": [],
   "source": [
    "def logg(x):\n",
    "    if x == 0:\n",
    "        return 0\n",
    "    else:\n",
    "        return np.log(x)\n",
    "    \n",
    "data['ln판매단가'] = list(map(logg,data['판매단가']))\n",
    "data['ln수량'] = list(map(logg,data['수량']))"
   ]
  },
  {
   "cell_type": "markdown",
   "metadata": {},
   "source": [
    "## 튜닝 이전"
   ]
  },
  {
   "cell_type": "code",
   "execution_count": 80,
   "metadata": {},
   "outputs": [],
   "source": [
    "df = data[['노출(분)', '마더코드', '상품코드','상품군', '판매단가', '취급액','수량','검색률2',\n",
    "       'lng_time','강수량(mm)', '습도(%)', '기온_int', '1시간평균 미세먼지농도', '소비지출전망CSI',\n",
    "       '소비자심리지수','요일', 'pk_time_01', 'pk_times_prd', 'Open', '온라인 쇼핑몰 거래액','two_amt',\n",
    "        '시간_범주', '성별', '일/무', '상품차이','방송_월',\"ln수량\",\"ln판매단가\"]]\n",
    "\n",
    "cloths = df[df['상품군']=='의류']\n",
    "inwear = df[df['상품군']=='속옷']\n",
    "kitchen = df[df['상품군']=='주방']\n",
    "food = df[df['상품군']=='농수축']\n",
    "skin = df[df['상품군']=='이미용']\n",
    "digital = df[df['상품군']=='가전']\n",
    "items = df[df['상품군']=='생활용품']\n",
    "health = df[df['상품군']=='건강기능']\n",
    "stuff = df[df['상품군']=='잡화']\n",
    "furni = df[df['상품군']=='가구']\n",
    "bedd = df[df['상품군']=='침구']\n",
    "\n",
    "X1 = cloths[cloths.columns.difference([\"취급액\",\"수량\",\"ln수량\",\"판매단가\"])]\n",
    "y1 = cloths[\"ln수량\"]\n",
    "X1_train, X1_test, y1_train, y1_test = train_test_split(X1,y1,test_size=0.2,random_state=42)\n",
    "\n",
    "X2 = inwear[inwear.columns.difference([\"취급액\",\"수량\",\"ln수량\",\"판매단가\"])]\n",
    "y2 = inwear[\"ln수량\"]\n",
    "X2_train, X2_test, y2_train, y2_test = train_test_split(X2,y2,test_size=0.2,random_state=42)\n",
    "\n",
    "X3 = kitchen[kitchen.columns.difference([\"취급액\",\"수량\",\"ln수량\",\"판매단가\"])]\n",
    "y3 = kitchen[\"ln수량\"]\n",
    "X3_train, X3_test, y3_train, y3_test = train_test_split(X3,y3,test_size=0.2,random_state=42)\n",
    "\n",
    "X4 = food[food.columns.difference([\"취급액\",\"수량\",\"ln수량\",\"판매단가\"])]\n",
    "y4 = food[\"ln수량\"]\n",
    "X4_train, X4_test, y4_train, y4_test = train_test_split(X4,y4,test_size=0.2,random_state=42)\n",
    "\n",
    "X5 = skin[skin.columns.difference([\"취급액\",\"수량\",\"ln수량\",\"판매단가\"])]\n",
    "y5 = skin[\"ln수량\"]\n",
    "X5_train, X5_test, y5_train, y5_test = train_test_split(X5,y5,test_size=0.2,random_state=42)\n",
    "\n",
    "X6 = digital[digital.columns.difference([\"취급액\",\"수량\",\"ln수량\",\"판매단가\"])]\n",
    "y6 = digital[\"ln수량\"]\n",
    "X6_train, X6_test, y6_train, y6_test = train_test_split(X6,y6,test_size=0.2,random_state=42)\n",
    "\n",
    "X7 = items[items.columns.difference([\"취급액\",\"수량\",\"ln수량\",\"판매단가\"])]\n",
    "y7 = items[\"ln수량\"]\n",
    "X7_train, X7_test, y7_train, y7_test = train_test_split(X7,y7,test_size=0.2, random_state=42)\n",
    "\n",
    "X8 = health[health.columns.difference([\"취급액\",\"수량\",\"ln수량\",\"판매단가\"])]\n",
    "y8 = health[\"ln수량\"]\n",
    "X8_train, X8_test, y8_train, y8_test = train_test_split(X8,y8,test_size=0.2,random_state=42)\n",
    "\n",
    "X9 = stuff[stuff.columns.difference([\"취급액\",\"수량\",\"ln수량\",\"판매단가\"])]\n",
    "y9 = stuff[\"ln수량\"]\n",
    "X9_train, X9_test, y9_train, y9_test = train_test_split(X9,y9,test_size=0.2,random_state=42)\n",
    "\n",
    "X10 = furni[furni.columns.difference([\"취급액\",\"수량\",\"ln수량\",\"판매단가\"])]\n",
    "y10 = furni[\"ln수량\"]\n",
    "X10_train, X10_test, y10_train, y10_test = train_test_split(X10,y10,test_size=0.2,random_state=42)\n",
    "\n",
    "X11 = bedd[bedd.columns.difference([\"취급액\",\"수량\",\"ln수량\",\"판매단가\"])]\n",
    "y11 = bedd[\"ln수량\"]\n",
    "X11_train, X11_test, y11_train, y11_test = train_test_split(X11,y11,test_size=0.2,random_state=42)\n",
    "\n",
    "X_train = pd.concat([X1_train,X2_train,X3_train,X4_train,X5_train,X6_train,X7_train,X8_train,X9_train,X10_train,X11_train])\n",
    "X_test = pd.concat([X1_test,X2_test,X3_test,X4_test,X5_test,X6_test,X7_test,X8_test,X9_test,X10_test,X11_test])\n",
    "y_train = pd.concat([y1_train,y2_train,y3_train,y4_train,y5_train,y6_train,y7_train,y8_train,y9_train,y10_train,y11_train])\n",
    "y_test = pd.concat([y1_test,y2_test,y3_test,y4_test,y5_test,y6_test,y7_test,y8_test,y9_test,y10_test,y11_test])"
   ]
  },
  {
   "cell_type": "code",
   "execution_count": 81,
   "metadata": {},
   "outputs": [],
   "source": [
    "transformer = make_column_transformer(\n",
    "    (OneHotEncoder(), ['상품군','요일','시간_범주', '성별', '일/무', '상품차이']),\n",
    "    remainder='passthrough')\n",
    "transformer.fit(X_train)\n",
    "X_train = transformer.transform(X_train)\n",
    "X_test = transformer.transform(X_test)"
   ]
  },
  {
   "cell_type": "code",
   "execution_count": 82,
   "metadata": {},
   "outputs": [
    {
     "name": "stdout",
     "output_type": "stream",
     "text": [
      "RF model mape:  41.57215038337556\n"
     ]
    }
   ],
   "source": [
    "model = RandomForestRegressor(random_state=42,n_jobs=-1)\n",
    "model.fit(X_train, y_train)\n",
    "\n",
    "y_pred = model.predict(X_test)\n",
    "y_pred = np.exp(y_pred)\n",
    "\n",
    "y_pred = np.array(data[data.index.isin(y_test.index.tolist())]['판매단가'][y_test.index]*y_pred).tolist()\n",
    "real = data[data.index.isin(y_test.index.tolist())]['취급액'][y_test.index].tolist()\n",
    "ss = []\n",
    "for i in range(len(y_pred)):\n",
    "    ss.append(MAPE(real[i],y_pred[i]))\n",
    "mape=np.array(ss).mean()*100\n",
    "print('RF model mape: ',mape)"
   ]
  },
  {
   "cell_type": "code",
   "execution_count": 86,
   "metadata": {},
   "outputs": [
    {
     "data": {
      "text/plain": [
       "RandomForestRegressor(bootstrap=True, ccp_alpha=0.0, criterion='mse',\n",
       "                      max_depth=None, max_features='auto', max_leaf_nodes=None,\n",
       "                      max_samples=None, min_impurity_decrease=0.0,\n",
       "                      min_impurity_split=None, min_samples_leaf=1,\n",
       "                      min_samples_split=2, min_weight_fraction_leaf=0.0,\n",
       "                      n_estimators=100, n_jobs=-1, oob_score=False,\n",
       "                      random_state=42, verbose=0, warm_start=False)"
      ]
     },
     "execution_count": 86,
     "metadata": {},
     "output_type": "execute_result"
    }
   ],
   "source": [
    "model"
   ]
  },
  {
   "cell_type": "markdown",
   "metadata": {},
   "source": [
    "## 튜닝 이후"
   ]
  },
  {
   "cell_type": "code",
   "execution_count": 87,
   "metadata": {},
   "outputs": [],
   "source": [
    "df = data[['노출(분)', '마더코드', '상품코드','상품군', '판매단가', '취급액','수량','검색률2',\n",
    "       'lng_time','강수량(mm)', '습도(%)', '기온_int', '1시간평균 미세먼지농도', '소비지출전망CSI',\n",
    "       '소비자심리지수','요일', 'pk_time_01', 'pk_times_prd', 'Open', '온라인 쇼핑몰 거래액','two_amt',\n",
    "        '시간_범주', '성별', '일/무', '상품차이','방송_월',\"ln수량\",\"ln판매단가\"]]\n",
    "\n",
    "cloths = df[df['상품군']=='의류']\n",
    "inwear = df[df['상품군']=='속옷']\n",
    "kitchen = df[df['상품군']=='주방']\n",
    "food = df[df['상품군']=='농수축']\n",
    "skin = df[df['상품군']=='이미용']\n",
    "digital = df[df['상품군']=='가전']\n",
    "items = df[df['상품군']=='생활용품']\n",
    "health = df[df['상품군']=='건강기능']\n",
    "stuff = df[df['상품군']=='잡화']\n",
    "furni = df[df['상품군']=='가구']\n",
    "bedd = df[df['상품군']=='침구']\n",
    "\n",
    "X1 = cloths[cloths.columns.difference([\"취급액\",\"수량\",\"ln수량\",\"판매단가\"])]\n",
    "y1 = cloths[\"ln수량\"]\n",
    "X1_train, X1_test, y1_train, y1_test = train_test_split(X1,y1,test_size=0.2,random_state=42)\n",
    "\n",
    "X2 = inwear[inwear.columns.difference([\"취급액\",\"수량\",\"ln수량\",\"판매단가\"])]\n",
    "y2 = inwear[\"ln수량\"]\n",
    "X2_train, X2_test, y2_train, y2_test = train_test_split(X2,y2,test_size=0.2,random_state=42)\n",
    "\n",
    "X3 = kitchen[kitchen.columns.difference([\"취급액\",\"수량\",\"ln수량\",\"판매단가\"])]\n",
    "y3 = kitchen[\"ln수량\"]\n",
    "X3_train, X3_test, y3_train, y3_test = train_test_split(X3,y3,test_size=0.2,random_state=42)\n",
    "\n",
    "X4 = food[food.columns.difference([\"취급액\",\"수량\",\"ln수량\",\"판매단가\"])]\n",
    "y4 = food[\"ln수량\"]\n",
    "X4_train, X4_test, y4_train, y4_test = train_test_split(X4,y4,test_size=0.2,random_state=42)\n",
    "\n",
    "X5 = skin[skin.columns.difference([\"취급액\",\"수량\",\"ln수량\",\"판매단가\"])]\n",
    "y5 = skin[\"ln수량\"]\n",
    "X5_train, X5_test, y5_train, y5_test = train_test_split(X5,y5,test_size=0.2,random_state=42)\n",
    "\n",
    "X6 = digital[digital.columns.difference([\"취급액\",\"수량\",\"ln수량\",\"판매단가\"])]\n",
    "y6 = digital[\"ln수량\"]\n",
    "X6_train, X6_test, y6_train, y6_test = train_test_split(X6,y6,test_size=0.2,random_state=42)\n",
    "\n",
    "X7 = items[items.columns.difference([\"취급액\",\"수량\",\"ln수량\",\"판매단가\"])]\n",
    "y7 = items[\"ln수량\"]\n",
    "X7_train, X7_test, y7_train, y7_test = train_test_split(X7,y7,test_size=0.2, random_state=42)\n",
    "\n",
    "X8 = health[health.columns.difference([\"취급액\",\"수량\",\"ln수량\",\"판매단가\"])]\n",
    "y8 = health[\"ln수량\"]\n",
    "X8_train, X8_test, y8_train, y8_test = train_test_split(X8,y8,test_size=0.2,random_state=42)\n",
    "\n",
    "X9 = stuff[stuff.columns.difference([\"취급액\",\"수량\",\"ln수량\",\"판매단가\"])]\n",
    "y9 = stuff[\"ln수량\"]\n",
    "X9_train, X9_test, y9_train, y9_test = train_test_split(X9,y9,test_size=0.2,random_state=42)\n",
    "\n",
    "X10 = furni[furni.columns.difference([\"취급액\",\"수량\",\"ln수량\",\"판매단가\"])]\n",
    "y10 = furni[\"ln수량\"]\n",
    "X10_train, X10_test, y10_train, y10_test = train_test_split(X10,y10,test_size=0.2,random_state=42)\n",
    "\n",
    "X11 = bedd[bedd.columns.difference([\"취급액\",\"수량\",\"ln수량\",\"판매단가\"])]\n",
    "y11 = bedd[\"ln수량\"]\n",
    "X11_train, X11_test, y11_train, y11_test = train_test_split(X11,y11,test_size=0.2,random_state=42)\n",
    "\n",
    "X_train = pd.concat([X1_train,X2_train,X3_train,X4_train,X5_train,X6_train,X7_train,X8_train,X9_train,X10_train,X11_train])\n",
    "X_test = pd.concat([X1_test,X2_test,X3_test,X4_test,X5_test,X6_test,X7_test,X8_test,X9_test,X10_test,X11_test])\n",
    "y_train = pd.concat([y1_train,y2_train,y3_train,y4_train,y5_train,y6_train,y7_train,y8_train,y9_train,y10_train,y11_train])\n",
    "y_test = pd.concat([y1_test,y2_test,y3_test,y4_test,y5_test,y6_test,y7_test,y8_test,y9_test,y10_test,y11_test])"
   ]
  },
  {
   "cell_type": "code",
   "execution_count": 88,
   "metadata": {},
   "outputs": [],
   "source": [
    "transformer = make_column_transformer(\n",
    "    (OneHotEncoder(), ['상품군','요일','시간_범주', '성별', '일/무', '상품차이']),\n",
    "    remainder='passthrough')\n",
    "transformer.fit(X_train)\n",
    "X_train = transformer.transform(X_train)\n",
    "X_test = transformer.transform(X_test)"
   ]
  },
  {
   "cell_type": "code",
   "execution_count": 89,
   "metadata": {},
   "outputs": [
    {
     "name": "stdout",
     "output_type": "stream",
     "text": [
      "최적 하이퍼 파라미터:  {'max_depth': 12, 'min_samples_leaf': 4, 'min_samples_split': 2}\n",
      "최고 예측 정확도: 0.7971\n"
     ]
    }
   ],
   "source": [
    "params = { 'max_depth' : list(range(10,14)),\n",
    "           'min_samples_leaf' : [1,2,3,4],\n",
    "           'min_samples_split' : [1,2,3,4]\n",
    "            }\n",
    "\n",
    "rf_clf = RandomForestRegressor(random_state=42,n_estimators=300)\n",
    "grid_cv = GridSearchCV(rf_clf, param_grid = params, cv = 5, n_jobs = -1)\n",
    "grid_cv.fit(X_train, y_train)\n",
    "\n",
    "print('최적 하이퍼 파라미터: ', grid_cv.best_params_)\n",
    "print('최고 예측 정확도: {:.4f}'.format(grid_cv.best_score_))"
   ]
  },
  {
   "cell_type": "code",
   "execution_count": 90,
   "metadata": {},
   "outputs": [
    {
     "name": "stdout",
     "output_type": "stream",
     "text": [
      "RF model mape:  45.24605990043784\n"
     ]
    }
   ],
   "source": [
    "model = grid_cv.best_estimator_\n",
    "model.fit(X_train, y_train)\n",
    "\n",
    "y_pred = model.predict(X_test)\n",
    "y_pred = np.exp(y_pred)\n",
    "\n",
    "y_pred = np.array(data[data.index.isin(y_test.index.tolist())]['판매단가'][y_test.index]*y_pred).tolist()\n",
    "real = data[data.index.isin(y_test.index.tolist())]['취급액'][y_test.index].tolist()\n",
    "ss = []\n",
    "for i in range(len(y_pred)):\n",
    "    ss.append(MAPE(real[i],y_pred[i]))\n",
    "mape=np.array(ss).mean()*100\n",
    "print('RF model mape: ',mape)"
   ]
  },
  {
   "cell_type": "markdown",
   "metadata": {},
   "source": [
    "# 02. Xgboost"
   ]
  },
  {
   "cell_type": "markdown",
   "metadata": {},
   "source": [
    "## 튜닝 이전"
   ]
  },
  {
   "cell_type": "code",
   "execution_count": 38,
   "metadata": {},
   "outputs": [
    {
     "name": "stdout",
     "output_type": "stream",
     "text": [
      "30105 7531\n"
     ]
    },
    {
     "data": {
      "text/plain": [
       "XGBRegressor(base_score=0.5, booster=None, colsample_bylevel=1,\n",
       "             colsample_bynode=1, colsample_bytree=1, gamma=0, gpu_id=-1,\n",
       "             importance_type='gain', interaction_constraints=None,\n",
       "             learning_rate=0.300000012, max_delta_step=0, max_depth=6,\n",
       "             min_child_weight=1, missing=nan, monotone_constraints=None,\n",
       "             n_estimators=100, n_jobs=0, num_parallel_tree=1,\n",
       "             objective='reg:squarederror', random_state=42, reg_alpha=0,\n",
       "             reg_lambda=1, scale_pos_weight=1, subsample=1, tree_method=None,\n",
       "             validate_parameters=False, verbosity=None)"
      ]
     },
     "execution_count": 38,
     "metadata": {},
     "output_type": "execute_result"
    }
   ],
   "source": [
    "import xgboost as xgb\n",
    "df = data[['노출(분)', '마더코드', '상품코드','상품군', '판매단가', '취급액','수량','검색률2',\n",
    "       'lng_time','강수량(mm)', '습도(%)', '기온_int', '1시간평균 미세먼지농도', '소비지출전망CSI',\n",
    "       '소비자심리지수','요일', 'pk_time_01', 'pk_times_prd', 'Open', '온라인 쇼핑몰 거래액','two_amt',\n",
    "        '시간_범주', '성별', '일/무', '상품차이','방송_월',\"ln수량\",\"ln판매단가\"]]\n",
    "\n",
    "encoder.fit(df['요일'])\n",
    "df['요일'] = encoder.transform(df['요일'])\n",
    "\n",
    "encoder.fit(df['시간_범주'])\n",
    "df['시간_범주'] = encoder.transform(df['시간_범주'])\n",
    "\n",
    "encoder.fit(df['상품군'])\n",
    "df['상품군'] = encoder.transform(df['상품군'])\n",
    "\n",
    "cloths = df[df['상품군']==6]\n",
    "inwear = df[df['상품군']==5]\n",
    "kitchen = df[df['상품군']==9]\n",
    "food = df[df['상품군']==3]\n",
    "skin = df[df['상품군']==7]\n",
    "digital = df[df['상품군']==1]\n",
    "items = df[df['상품군']==4]\n",
    "health = df[df['상품군']==2]\n",
    "stuff = df[df['상품군']==8]\n",
    "furni = df[df['상품군']==0]\n",
    "bedd = df[df['상품군']==10]\n",
    "\n",
    "X1 = cloths[cloths.columns.difference([\"취급액\",\"수량\",\"ln수량\",\"판매단가\"])]\n",
    "y1 = cloths[\"ln수량\"]\n",
    "X1_train, X1_test, y1_train, y1_test = train_test_split(X1,y1,test_size=0.2,random_state=42)\n",
    "\n",
    "X2 = inwear[inwear.columns.difference([\"취급액\",\"수량\",\"ln수량\",\"판매단가\"])]\n",
    "y2 = inwear[\"ln수량\"]\n",
    "X2_train, X2_test, y2_train, y2_test = train_test_split(X2,y2,test_size=0.2,random_state=42)\n",
    "\n",
    "X3 = kitchen[kitchen.columns.difference([\"취급액\",\"수량\",\"ln수량\",\"판매단가\"])]\n",
    "y3 = kitchen[\"ln수량\"]\n",
    "X3_train, X3_test, y3_train, y3_test = train_test_split(X3,y3,test_size=0.2,random_state=42)\n",
    "\n",
    "X4 = food[food.columns.difference([\"취급액\",\"수량\",\"ln수량\",\"판매단가\"])]\n",
    "y4 = food[\"ln수량\"]\n",
    "X4_train, X4_test, y4_train, y4_test = train_test_split(X4,y4,test_size=0.2,random_state=42)\n",
    "\n",
    "X5 = skin[skin.columns.difference([\"취급액\",\"수량\",\"ln수량\",\"판매단가\"])]\n",
    "y5 = skin[\"ln수량\"]\n",
    "X5_train, X5_test, y5_train, y5_test = train_test_split(X5,y5,test_size=0.2,random_state=42)\n",
    "\n",
    "X6 = digital[digital.columns.difference([\"취급액\",\"수량\",\"ln수량\",\"판매단가\"])]\n",
    "y6 = digital[\"ln수량\"]\n",
    "X6_train, X6_test, y6_train, y6_test = train_test_split(X6,y6,test_size=0.2,random_state=42)\n",
    "\n",
    "X7 = items[items.columns.difference([\"취급액\",\"수량\",\"ln수량\",\"판매단가\"])]\n",
    "y7 = items[\"ln수량\"]\n",
    "X7_train, X7_test, y7_train, y7_test = train_test_split(X7,y7,test_size=0.2, random_state=42)\n",
    "\n",
    "X8 = health[health.columns.difference([\"취급액\",\"수량\",\"ln수량\",\"판매단가\"])]\n",
    "y8 = health[\"ln수량\"]\n",
    "X8_train, X8_test, y8_train, y8_test = train_test_split(X8,y8,test_size=0.2,random_state=42)\n",
    "\n",
    "X9 = stuff[stuff.columns.difference([\"취급액\",\"수량\",\"ln수량\",\"판매단가\"])]\n",
    "y9 = stuff[\"ln수량\"]\n",
    "X9_train, X9_test, y9_train, y9_test = train_test_split(X9,y9,test_size=0.2,random_state=42)\n",
    "\n",
    "X10 = furni[furni.columns.difference([\"취급액\",\"수량\",\"ln수량\",\"판매단가\"])]\n",
    "y10 = furni[\"ln수량\"]\n",
    "X10_train, X10_test, y10_train, y10_test = train_test_split(X10,y10,test_size=0.2,random_state=42)\n",
    "\n",
    "X11 = bedd[bedd.columns.difference([\"취급액\",\"수량\",\"ln수량\",\"판매단가\"])]\n",
    "y11 = bedd[\"ln수량\"]\n",
    "X11_train, X11_test, y11_train, y11_test = train_test_split(X11,y11,test_size=0.2,random_state=42)\n",
    "\n",
    "X_train = pd.concat([X1_train,X2_train,X3_train,X4_train,X5_train,X6_train,X7_train,X8_train,X9_train,X10_train,X11_train])\n",
    "X_test = pd.concat([X1_test,X2_test,X3_test,X4_test,X5_test,X6_test,X7_test,X8_test,X9_test,X10_test,X11_test])\n",
    "y_train = pd.concat([y1_train,y2_train,y3_train,y4_train,y5_train,y6_train,y7_train,y8_train,y9_train,y10_train,y11_train])\n",
    "y_test = pd.concat([y1_test,y2_test,y3_test,y4_test,y5_test,y6_test,y7_test,y8_test,y9_test,y10_test,y11_test])\n",
    "\n",
    "xgb_model = xgb.XGBRegressor(random_state=42)\n",
    "\n",
    "print(len(X_train), len(X_test))\n",
    "xgb_model.fit(X_train,y_train)"
   ]
  },
  {
   "cell_type": "code",
   "execution_count": 39,
   "metadata": {},
   "outputs": [
    {
     "name": "stdout",
     "output_type": "stream",
     "text": [
      "xgboost model mape:  37.34674850128637\n"
     ]
    }
   ],
   "source": [
    "y_pred = xgb_model.predict(X_test)\n",
    "y_pred = np.exp(y_pred)\n",
    "\n",
    "y_pred = np.array(data[data.index.isin(y_test.index.tolist())]['판매단가'][y_test.index]*y_pred).tolist()\n",
    "real = data[data.index.isin(y_test.index.tolist())]['취급액'][y_test.index].tolist()\n",
    "ss = []\n",
    "for i in range(len(y_pred)):\n",
    "    ss.append(MAPE(real[i],y_pred[i]))\n",
    "mape=np.array(ss).mean()*100\n",
    "print('xgboost model mape: ',mape)"
   ]
  },
  {
   "cell_type": "code",
   "execution_count": 40,
   "metadata": {},
   "outputs": [
    {
     "data": {
      "text/plain": [
       "<matplotlib.axes._subplots.AxesSubplot at 0x21d30f2ce08>"
      ]
     },
     "execution_count": 40,
     "metadata": {},
     "output_type": "execute_result"
    },
    {
     "data": {
      "image/png": "[encoded data removed]",
      "text/plain": [
       "<Figure size 432x288 with 1 Axes>"
      ]
     },
     "metadata": {
      "needs_background": "light"
     },
     "output_type": "display_data"
    }
   ],
   "source": [
    "xgb.plot_importance(xgb_model)"
   ]
  },
  {
   "cell_type": "markdown",
   "metadata": {},
   "source": [
    "## 튜닝 이후"
   ]
  },
  {
   "cell_type": "code",
   "execution_count": 41,
   "metadata": {},
   "outputs": [],
   "source": [
    "import xgboost as xgb\n",
    "df = data[['노출(분)', '마더코드', '상품코드','상품군', '판매단가', '취급액','수량','검색률2',\n",
    "       'lng_time','강수량(mm)', '습도(%)', '기온_int', '1시간평균 미세먼지농도', '소비지출전망CSI',\n",
    "       '소비자심리지수','요일', 'pk_time_01', 'pk_times_prd', 'Open', '온라인 쇼핑몰 거래액','two_amt',\n",
    "        '시간_범주', '성별', '일/무', '상품차이','방송_월',\"ln수량\",\"ln판매단가\"]]\n",
    "\n",
    "encoder.fit(df['요일'])\n",
    "df['요일'] = encoder.transform(df['요일'])\n",
    "\n",
    "encoder.fit(df['시간_범주'])\n",
    "df['시간_범주'] = encoder.transform(df['시간_범주'])\n",
    "\n",
    "encoder.fit(df['상품군'])\n",
    "df['상품군'] = encoder.transform(df['상품군'])\n",
    "\n",
    "cloths = df[df['상품군']==6]\n",
    "inwear = df[df['상품군']==5]\n",
    "kitchen = df[df['상품군']==9]\n",
    "food = df[df['상품군']==3]\n",
    "skin = df[df['상품군']==7]\n",
    "digital = df[df['상품군']==1]\n",
    "items = df[df['상품군']==4]\n",
    "health = df[df['상품군']==2]\n",
    "stuff = df[df['상품군']==8]\n",
    "furni = df[df['상품군']==0]\n",
    "bedd = df[df['상품군']==10]\n",
    "\n",
    "X1 = cloths[cloths.columns.difference([\"취급액\",\"수량\",\"ln수량\",\"판매단가\"])]\n",
    "y1 = cloths[\"ln수량\"]\n",
    "X1_train, X1_test, y1_train, y1_test = train_test_split(X1,y1,test_size=0.2,random_state=42)\n",
    "\n",
    "X2 = inwear[inwear.columns.difference([\"취급액\",\"수량\",\"ln수량\",\"판매단가\"])]\n",
    "y2 = inwear[\"ln수량\"]\n",
    "X2_train, X2_test, y2_train, y2_test = train_test_split(X2,y2,test_size=0.2,random_state=42)\n",
    "\n",
    "X3 = kitchen[kitchen.columns.difference([\"취급액\",\"수량\",\"ln수량\",\"판매단가\"])]\n",
    "y3 = kitchen[\"ln수량\"]\n",
    "X3_train, X3_test, y3_train, y3_test = train_test_split(X3,y3,test_size=0.2,random_state=42)\n",
    "\n",
    "X4 = food[food.columns.difference([\"취급액\",\"수량\",\"ln수량\",\"판매단가\"])]\n",
    "y4 = food[\"ln수량\"]\n",
    "X4_train, X4_test, y4_train, y4_test = train_test_split(X4,y4,test_size=0.2,random_state=42)\n",
    "\n",
    "X5 = skin[skin.columns.difference([\"취급액\",\"수량\",\"ln수량\",\"판매단가\"])]\n",
    "y5 = skin[\"ln수량\"]\n",
    "X5_train, X5_test, y5_train, y5_test = train_test_split(X5,y5,test_size=0.2,random_state=42)\n",
    "\n",
    "X6 = digital[digital.columns.difference([\"취급액\",\"수량\",\"ln수량\",\"판매단가\"])]\n",
    "y6 = digital[\"ln수량\"]\n",
    "X6_train, X6_test, y6_train, y6_test = train_test_split(X6,y6,test_size=0.2,random_state=42)\n",
    "\n",
    "X7 = items[items.columns.difference([\"취급액\",\"수량\",\"ln수량\",\"판매단가\"])]\n",
    "y7 = items[\"ln수량\"]\n",
    "X7_train, X7_test, y7_train, y7_test = train_test_split(X7,y7,test_size=0.2, random_state=42)\n",
    "\n",
    "X8 = health[health.columns.difference([\"취급액\",\"수량\",\"ln수량\",\"판매단가\"])]\n",
    "y8 = health[\"ln수량\"]\n",
    "X8_train, X8_test, y8_train, y8_test = train_test_split(X8,y8,test_size=0.2,random_state=42)\n",
    "\n",
    "X9 = stuff[stuff.columns.difference([\"취급액\",\"수량\",\"ln수량\",\"판매단가\"])]\n",
    "y9 = stuff[\"ln수량\"]\n",
    "X9_train, X9_test, y9_train, y9_test = train_test_split(X9,y9,test_size=0.2,random_state=42)\n",
    "\n",
    "X10 = furni[furni.columns.difference([\"취급액\",\"수량\",\"ln수량\",\"판매단가\"])]\n",
    "y10 = furni[\"ln수량\"]\n",
    "X10_train, X10_test, y10_train, y10_test = train_test_split(X10,y10,test_size=0.2,random_state=42)\n",
    "\n",
    "X11 = bedd[bedd.columns.difference([\"취급액\",\"수량\",\"ln수량\",\"판매단가\"])]\n",
    "y11 = bedd[\"ln수량\"]\n",
    "X11_train, X11_test, y11_train, y11_test = train_test_split(X11,y11,test_size=0.2,random_state=42)\n",
    "\n",
    "X_train = pd.concat([X1_train,X2_train,X3_train,X4_train,X5_train,X6_train,X7_train,X8_train,X9_train,X10_train,X11_train])\n",
    "X_test = pd.concat([X1_test,X2_test,X3_test,X4_test,X5_test,X6_test,X7_test,X8_test,X9_test,X10_test,X11_test])\n",
    "y_train = pd.concat([y1_train,y2_train,y3_train,y4_train,y5_train,y6_train,y7_train,y8_train,y9_train,y10_train,y11_train])\n",
    "y_test = pd.concat([y1_test,y2_test,y3_test,y4_test,y5_test,y6_test,y7_test,y8_test,y9_test,y10_test,y11_test])"
   ]
  },
  {
   "cell_type": "code",
   "execution_count": 42,
   "metadata": {},
   "outputs": [],
   "source": [
    "gridParams = {\n",
    "    'learning_rate': [0.01,0.05,0.1],\n",
    "    'colsample_bytree' : [0.65,0.7,0.8],\n",
    "    'subsample' : [0.7,0.75,0.8],\n",
    "    'gamma' : [0.05,0.1],\n",
    "    'max_depth' : [8,10,12]\n",
    "    }\n",
    "model = xgb.XGBRegressor()\n",
    "\n",
    "grid = GridSearchCV(model, gridParams,\n",
    "                    verbose=0,\n",
    "                    cv=5,\n",
    "                    n_jobs=-1)"
   ]
  },
  {
   "cell_type": "code",
   "execution_count": 43,
   "metadata": {},
   "outputs": [],
   "source": [
    "grid.fit(X_train, y_train)\n",
    "grid.best_params_\n",
    "bst = xgb.XGBRegressor(n_jobs = -1,\n",
    "                          n_estimators=500,\n",
    "                          max_depth = grid.best_params_['max_depth'],\n",
    "                          subsample = grid.best_params_['subsample'],\n",
    "                          learning_rate = grid.best_params_['learning_rate'],\n",
    "                          gamma = grid.best_params_['gamma'],\n",
    "                          colsample_bytree = grid.best_params_['colsample_bytree'],\n",
    "                          random_state=42)"
   ]
  },
  {
   "cell_type": "code",
   "execution_count": 44,
   "metadata": {},
   "outputs": [
    {
     "data": {
      "text/plain": [
       "XGBRegressor(base_score=0.5, booster=None, colsample_bylevel=1,\n",
       "             colsample_bynode=1, colsample_bytree=0.7, gamma=0.1, gpu_id=-1,\n",
       "             importance_type='gain', interaction_constraints=None,\n",
       "             learning_rate=0.05, max_delta_step=0, max_depth=10,\n",
       "             min_child_weight=1, missing=nan, monotone_constraints=None,\n",
       "             n_estimators=500, n_jobs=-1, num_parallel_tree=1,\n",
       "             objective='reg:squarederror', random_state=42, reg_alpha=0,\n",
       "             reg_lambda=1, scale_pos_weight=1, subsample=0.7, tree_method=None,\n",
       "             validate_parameters=False, verbosity=None)"
      ]
     },
     "execution_count": 44,
     "metadata": {},
     "output_type": "execute_result"
    }
   ],
   "source": [
    "bst.fit(X_train,y_train)"
   ]
  },
  {
   "cell_type": "code",
   "execution_count": 45,
   "metadata": {},
   "outputs": [
    {
     "name": "stdout",
     "output_type": "stream",
     "text": [
      "xgboost model mape:  32.60315980839273\n"
     ]
    }
   ],
   "source": [
    "y_pred = bst.predict(X_test)\n",
    "y_pred = np.exp(y_pred)\n",
    "\n",
    "y_pred = np.array(data[data.index.isin(y_test.index.tolist())]['판매단가'][y_test.index]*y_pred).tolist()\n",
    "real = data[data.index.isin(y_test.index.tolist())]['취급액'][y_test.index].tolist()\n",
    "ss = []\n",
    "for i in range(len(y_pred)):\n",
    "    ss.append(MAPE(real[i],y_pred[i]))\n",
    "mape=np.array(ss).mean()*100\n",
    "print('xgboost model mape: ',mape)"
   ]
  },
  {
   "cell_type": "code",
   "execution_count": 46,
   "metadata": {},
   "outputs": [
    {
     "data": {
      "text/plain": [
       "<matplotlib.axes._subplots.AxesSubplot at 0x21d320b3208>"
      ]
     },
     "execution_count": 46,
     "metadata": {},
     "output_type": "execute_result"
    },
    {
     "data": {
      "image/png": "[encoded data removed]",
      "text/plain": [
       "<Figure size 432x288 with 1 Axes>"
      ]
     },
     "metadata": {
      "needs_background": "light"
     },
     "output_type": "display_data"
    }
   ],
   "source": [
    "xgb.plot_importance(bst)"
   ]
  },
  {
   "cell_type": "markdown",
   "metadata": {},
   "source": [
    "# 03. Light GBM"
   ]
  },
  {
   "cell_type": "markdown",
   "metadata": {},
   "source": [
    "## 튜닝 이전"
   ]
  },
  {
   "cell_type": "code",
   "execution_count": 47,
   "metadata": {},
   "outputs": [],
   "source": [
    "def logg(x):\n",
    "    if x == 0:\n",
    "        return 0\n",
    "    else:\n",
    "        return np.log(x)\n",
    "    \n",
    "data['ln판매단가'] = list(map(logg,data['판매단가']))\n",
    "data['ln수량'] = list(map(logg,data['수량']))"
   ]
  },
  {
   "cell_type": "code",
   "execution_count": 48,
   "metadata": {},
   "outputs": [],
   "source": [
    "df = data[['노출(분)', '마더코드', '상품코드','상품군', '판매단가', '취급액','수량','검색률2',\n",
    "       'lng_time','강수량(mm)', '습도(%)', '기온_int', '1시간평균 미세먼지농도', '소비지출전망CSI',\n",
    "       '소비자심리지수','요일', 'pk_time_01', 'pk_times_prd', 'Open', '온라인 쇼핑몰 거래액','two_amt',\n",
    "        '시간_범주', '성별', '일/무', '상품차이','방송_월',\"ln수량\",\"ln판매단가\"]]\n",
    "\n",
    "encoder.fit(df['요일'])\n",
    "df['요일'] = encoder.transform(df['요일'])\n",
    "\n",
    "encoder.fit(df['시간_범주'])\n",
    "df['시간_범주'] = encoder.transform(df['시간_범주'])\n",
    "\n",
    "encoder.fit(df['상품군'])\n",
    "df['상품군'] = encoder.transform(df['상품군'])\n",
    "\n",
    "df['상품군'] = df['상품군'].astype('category')\n",
    "df['방송_월'] = df['방송_월'].astype('category')\n",
    "df['요일'] = df['요일'].astype('category')\n",
    "df['시간_범주'] = df['시간_범주'].astype('category')\n",
    "df['성별'] = df['성별'].astype('category')\n",
    "df['일/무'] = df['일/무'].astype('category')\n",
    "df['상품차이'] = df['상품차이'].astype('category')"
   ]
  },
  {
   "cell_type": "code",
   "execution_count": 49,
   "metadata": {},
   "outputs": [],
   "source": [
    "cloths = df[df['상품군']==6]\n",
    "inwear = df[df['상품군']==5]\n",
    "kitchen = df[df['상품군']==9]\n",
    "food = df[df['상품군']==3]\n",
    "skin = df[df['상품군']==7]\n",
    "digital = df[df['상품군']==1]\n",
    "items = df[df['상품군']==4]\n",
    "health = df[df['상품군']==2]\n",
    "stuff = df[df['상품군']==8]\n",
    "furni = df[df['상품군']==0]\n",
    "bedd = df[df['상품군']==10]"
   ]
  },
  {
   "cell_type": "code",
   "execution_count": 50,
   "metadata": {},
   "outputs": [],
   "source": [
    "X1 = cloths[cloths.columns.difference([\"취급액\",\"수량\",'판매단가','ln수량'])]\n",
    "y1 = cloths[\"ln수량\"]\n",
    "X1_train, X1_test, y1_train, y1_test = train_test_split(X1,y1,test_size=0.2,random_state=42)\n",
    "\n",
    "X2 = inwear[inwear.columns.difference([\"취급액\",\"수량\",'판매단가','ln수량'])]\n",
    "y2 = inwear[\"ln수량\"]\n",
    "X2_train, X2_test, y2_train, y2_test = train_test_split(X2,y2,test_size=0.2,random_state=42)\n",
    "\n",
    "X3 = kitchen[kitchen.columns.difference([\"취급액\",\"수량\",'판매단가','ln수량'])]\n",
    "y3 = kitchen[\"ln수량\"]\n",
    "X3_train, X3_test, y3_train, y3_test = train_test_split(X3,y3,test_size=0.2,random_state=42)\n",
    "\n",
    "X4 = food[food.columns.difference([\"취급액\",\"수량\",'판매단가','ln수량'])]\n",
    "y4 = food[\"ln수량\"]\n",
    "X4_train, X4_test, y4_train, y4_test = train_test_split(X4,y4,test_size=0.2,random_state=42)\n",
    "\n",
    "X5 = skin[skin.columns.difference([\"취급액\",\"수량\",'판매단가','ln수량'])]\n",
    "y5 = skin[\"ln수량\"]\n",
    "X5_train, X5_test, y5_train, y5_test = train_test_split(X5,y5,test_size=0.2,random_state=42)\n",
    "\n",
    "X6 = digital[digital.columns.difference([\"취급액\",\"수량\",'판매단가','ln수량'])]\n",
    "y6 = digital[\"ln수량\"]\n",
    "X6_train, X6_test, y6_train, y6_test = train_test_split(X6,y6,test_size=0.2,random_state=42)\n",
    "\n",
    "X7 = items[items.columns.difference([\"취급액\",\"수량\",'판매단가','ln수량'])]\n",
    "y7 = items[\"ln수량\"]\n",
    "X7_train, X7_test, y7_train, y7_test = train_test_split(X7,y7,test_size=0.2, random_state=42)\n",
    "\n",
    "X8 = health[health.columns.difference([\"취급액\",\"수량\",'판매단가','ln수량'])]\n",
    "y8 = health[\"ln수량\"]\n",
    "X8_train, X8_test, y8_train, y8_test = train_test_split(X8,y8,test_size=0.2,random_state=42)\n",
    "\n",
    "X9 = stuff[stuff.columns.difference([\"취급액\",\"수량\",'판매단가','ln수량'])]\n",
    "y9 = stuff[\"ln수량\"]\n",
    "X9_train, X9_test, y9_train, y9_test = train_test_split(X9,y9,test_size=0.2,random_state=42)\n",
    "\n",
    "X10 = furni[furni.columns.difference([\"취급액\",\"수량\",'판매단가','ln수량'])]\n",
    "y10 = furni[\"ln수량\"]\n",
    "X10_train, X10_test, y10_train, y10_test = train_test_split(X10,y10,test_size=0.2,random_state=42)\n",
    "\n",
    "X11 = bedd[bedd.columns.difference([\"취급액\",\"수량\",'판매단가','ln수량'])]\n",
    "y11 = bedd[\"ln수량\"]\n",
    "X11_train, X11_test, y11_train, y11_test = train_test_split(X11,y11,test_size=0.2,random_state=42)\n",
    "\n",
    "X_train = pd.concat([X1_train,X2_train,X3_train,X4_train,X5_train,X6_train,X7_train,X8_train,X9_train,X10_train,X11_train])\n",
    "X_test = pd.concat([X1_test,X2_test,X3_test,X4_test,X5_test,X6_test,X7_test,X8_test,X9_test,X10_test,X11_test])\n",
    "y_train = pd.concat([y1_train,y2_train,y3_train,y4_train,y5_train,y6_train,y7_train,y8_train,y9_train,y10_train,y11_train])\n",
    "y_test = pd.concat([y1_test,y2_test,y3_test,y4_test,y5_test,y6_test,y7_test,y8_test,y9_test,y10_test,y11_test])"
   ]
  },
  {
   "cell_type": "code",
   "execution_count": 51,
   "metadata": {},
   "outputs": [
    {
     "data": {
      "text/plain": [
       "LGBMRegressor(boosting_type='gbdt', class_weight=None, colsample_bytree=1.0,\n",
       "              importance_type='split', learning_rate=0.1, max_depth=-1,\n",
       "              min_child_samples=20, min_child_weight=0.001, min_split_gain=0.0,\n",
       "              n_estimators=100, n_jobs=-1, num_leaves=31, objective=None,\n",
       "              random_state=None, reg_alpha=0.0, reg_lambda=0.0, silent=True,\n",
       "              subsample=1.0, subsample_for_bin=200000, subsample_freq=0)"
      ]
     },
     "execution_count": 51,
     "metadata": {},
     "output_type": "execute_result"
    }
   ],
   "source": [
    "model = LGBMRegressor()\n",
    "model.fit(X_train,y_train)"
   ]
  },
  {
   "cell_type": "code",
   "execution_count": 52,
   "metadata": {},
   "outputs": [
    {
     "name": "stdout",
     "output_type": "stream",
     "text": [
      "lightgbm model mape:  37.34684064904746\n"
     ]
    }
   ],
   "source": [
    "y_pred = model.predict(X_train)\n",
    "y_pred = np.exp(y_pred)\n",
    "y_pred = np.array(data[data.index.isin(y_train.index.tolist())]['판매단가'][y_train.index]*y_pred).tolist()\n",
    "real = data[data.index.isin(y_train.index.tolist())]['취급액'][y_train.index].tolist()\n",
    "ss = []\n",
    "for i in range(len(y_pred)):\n",
    "    ss.append(MAPE(real[i],y_pred[i]))\n",
    "mape=np.array(ss).mean()*100\n",
    "print('lightgbm model mape: ',mape)"
   ]
  },
  {
   "cell_type": "code",
   "execution_count": 53,
   "metadata": {},
   "outputs": [
    {
     "name": "stdout",
     "output_type": "stream",
     "text": [
      "lightgbm model mape:  41.47843836802404\n"
     ]
    }
   ],
   "source": [
    "y_pred = model.predict(X_test)\n",
    "y_pred = np.exp(y_pred)\n",
    "y_pred = np.array(data[data.index.isin(y_test.index.tolist())]['판매단가'][y_test.index]*y_pred).tolist()\n",
    "real = data[data.index.isin(y_test.index.tolist())]['취급액'][y_test.index].tolist()\n",
    "ss = []\n",
    "for i in range(len(y_pred)):\n",
    "    ss.append(MAPE(real[i],y_pred[i]))\n",
    "mape=np.array(ss).mean()*100\n",
    "print('lightgbm model mape: ',mape)"
   ]
  },
  {
   "cell_type": "code",
   "execution_count": 54,
   "metadata": {},
   "outputs": [
    {
     "data": {
      "text/plain": [
       "<matplotlib.axes._subplots.AxesSubplot at 0x21d322c11c8>"
      ]
     },
     "execution_count": 54,
     "metadata": {},
     "output_type": "execute_result"
    },
    {
     "data": {
      "image/png": "[encoded data removed]",
      "text/plain": [
       "<Figure size 432x288 with 1 Axes>"
      ]
     },
     "metadata": {
      "needs_background": "light"
     },
     "output_type": "display_data"
    }
   ],
   "source": [
    "lgb.plot_importance(model)"
   ]
  },
  {
   "cell_type": "markdown",
   "metadata": {},
   "source": [
    "## 튜닝 이후"
   ]
  },
  {
   "cell_type": "code",
   "execution_count": 64,
   "metadata": {},
   "outputs": [],
   "source": [
    "df = data[['노출(분)', '마더코드', '상품코드','상품군', '판매단가', '취급액','수량','검색률2',\n",
    "       'lng_time','강수량(mm)', '습도(%)', '기온_int', '1시간평균 미세먼지농도', '소비지출전망CSI',\n",
    "       '소비자심리지수','요일', 'pk_time_01', 'pk_times_prd', 'Open', '온라인 쇼핑몰 거래액','two_amt',\n",
    "        '시간_범주', '성별', '일/무', '상품차이','방송_월',\"ln수량\",\"ln판매단가\"]]\n",
    "\n",
    "encoder.fit(df['요일'])\n",
    "df['요일'] = encoder.transform(df['요일'])\n",
    "\n",
    "encoder.fit(df['시간_범주'])\n",
    "df['시간_범주'] = encoder.transform(df['시간_범주'])\n",
    "\n",
    "encoder.fit(df['상품군'])\n",
    "df['상품군'] = encoder.transform(df['상품군'])\n",
    "\n",
    "df['상품군'] = df['상품군'].astype('category')\n",
    "df['방송_월'] = df['방송_월'].astype('category')\n",
    "df['요일'] = df['요일'].astype('category')\n",
    "df['시간_범주'] = df['시간_범주'].astype('category')\n",
    "df['성별'] = df['성별'].astype('category')\n",
    "df['일/무'] = df['일/무'].astype('category')\n",
    "df['상품차이'] = df['상품차이'].astype('category')"
   ]
  },
  {
   "cell_type": "code",
   "execution_count": 65,
   "metadata": {},
   "outputs": [],
   "source": [
    "cloths = df[df['상품군']==6]\n",
    "inwear = df[df['상품군']==5]\n",
    "kitchen = df[df['상품군']==9]\n",
    "food = df[df['상품군']==3]\n",
    "skin = df[df['상품군']==7]\n",
    "digital = df[df['상품군']==1]\n",
    "items = df[df['상품군']==4]\n",
    "health = df[df['상품군']==2]\n",
    "stuff = df[df['상품군']==8]\n",
    "furni = df[df['상품군']==0]\n",
    "bedd = df[df['상품군']==10]"
   ]
  },
  {
   "cell_type": "code",
   "execution_count": 66,
   "metadata": {},
   "outputs": [],
   "source": [
    "X1 = cloths[cloths.columns.difference([\"취급액\",\"수량\",'판매단가','ln수량'])]\n",
    "y1 = cloths[\"ln수량\"]\n",
    "X1_train, X1_test, y1_train, y1_test = train_test_split(X1,y1,test_size=0.2,random_state=42)\n",
    "\n",
    "X2 = inwear[inwear.columns.difference([\"취급액\",\"수량\",'판매단가','ln수량'])]\n",
    "y2 = inwear[\"ln수량\"]\n",
    "X2_train, X2_test, y2_train, y2_test = train_test_split(X2,y2,test_size=0.2,random_state=42)\n",
    "\n",
    "X3 = kitchen[kitchen.columns.difference([\"취급액\",\"수량\",'판매단가','ln수량'])]\n",
    "y3 = kitchen[\"ln수량\"]\n",
    "X3_train, X3_test, y3_train, y3_test = train_test_split(X3,y3,test_size=0.2,random_state=42)\n",
    "\n",
    "X4 = food[food.columns.difference([\"취급액\",\"수량\",'판매단가','ln수량'])]\n",
    "y4 = food[\"ln수량\"]\n",
    "X4_train, X4_test, y4_train, y4_test = train_test_split(X4,y4,test_size=0.2,random_state=42)\n",
    "\n",
    "X5 = skin[skin.columns.difference([\"취급액\",\"수량\",'판매단가','ln수량'])]\n",
    "y5 = skin[\"ln수량\"]\n",
    "X5_train, X5_test, y5_train, y5_test = train_test_split(X5,y5,test_size=0.2,random_state=42)\n",
    "\n",
    "X6 = digital[digital.columns.difference([\"취급액\",\"수량\",'판매단가','ln수량'])]\n",
    "y6 = digital[\"ln수량\"]\n",
    "X6_train, X6_test, y6_train, y6_test = train_test_split(X6,y6,test_size=0.2,random_state=42)\n",
    "\n",
    "X7 = items[items.columns.difference([\"취급액\",\"수량\",'판매단가','ln수량'])]\n",
    "y7 = items[\"ln수량\"]\n",
    "X7_train, X7_test, y7_train, y7_test = train_test_split(X7,y7,test_size=0.2, random_state=42)\n",
    "\n",
    "X8 = health[health.columns.difference([\"취급액\",\"수량\",'판매단가','ln수량'])]\n",
    "y8 = health[\"ln수량\"]\n",
    "X8_train, X8_test, y8_train, y8_test = train_test_split(X8,y8,test_size=0.2,random_state=42)\n",
    "\n",
    "X9 = stuff[stuff.columns.difference([\"취급액\",\"수량\",'판매단가','ln수량'])]\n",
    "y9 = stuff[\"ln수량\"]\n",
    "X9_train, X9_test, y9_train, y9_test = train_test_split(X9,y9,test_size=0.2,random_state=42)\n",
    "\n",
    "X10 = furni[furni.columns.difference([\"취급액\",\"수량\",'판매단가','ln수량'])]\n",
    "y10 = furni[\"ln수량\"]\n",
    "X10_train, X10_test, y10_train, y10_test = train_test_split(X10,y10,test_size=0.2,random_state=42)\n",
    "\n",
    "X11 = bedd[bedd.columns.difference([\"취급액\",\"수량\",'판매단가','ln수량'])]\n",
    "y11 = bedd[\"ln수량\"]\n",
    "X11_train, X11_test, y11_train, y11_test = train_test_split(X11,y11,test_size=0.2,random_state=42)\n",
    "\n",
    "X_train = pd.concat([X1_train,X2_train,X3_train,X4_train,X5_train,X6_train,X7_train,X8_train,X9_train,X10_train,X11_train])\n",
    "X_test = pd.concat([X1_test,X2_test,X3_test,X4_test,X5_test,X6_test,X7_test,X8_test,X9_test,X10_test,X11_test])\n",
    "y_train = pd.concat([y1_train,y2_train,y3_train,y4_train,y5_train,y6_train,y7_train,y8_train,y9_train,y10_train,y11_train])\n",
    "y_test = pd.concat([y1_test,y2_test,y3_test,y4_test,y5_test,y6_test,y7_test,y8_test,y9_test,y10_test,y11_test])"
   ]
  },
  {
   "cell_type": "code",
   "execution_count": 67,
   "metadata": {},
   "outputs": [
    {
     "name": "stdout",
     "output_type": "stream",
     "text": [
      "[LightGBM] [Warning] feature_fraction is set=0.6, colsample_bytree=1.0 will be ignored. Current value: feature_fraction=0.6\n",
      "[LightGBM] [Warning] bagging_fraction is set=0.7, subsample=1.0 will be ignored. Current value: bagging_fraction=0.7\n",
      "[LightGBM] [Warning] Accuracy may be bad since you didn't set num_leaves and 2^max_depth > num_leaves\n"
     ]
    },
    {
     "data": {
      "text/plain": [
       "{'bagging_fraction': 0.7,\n",
       " 'boosting_type': 'gbdt',\n",
       " 'feature_fraction': 0.6,\n",
       " 'learning_rate': 0.1,\n",
       " 'max_depth': 14,\n",
       " 'metric': 'mse',\n",
       " 'objective': 'regression'}"
      ]
     },
     "execution_count": 67,
     "metadata": {},
     "output_type": "execute_result"
    }
   ],
   "source": [
    "lgbm_r=LGBMRegressor()\n",
    "\n",
    "gridParams = {\n",
    "    'learning_rate': [0.1,0.01],\n",
    "    'boosting_type' : ['gbdt'],\n",
    "    'max_depth' : [12,14,16,18,20],\n",
    "    'objective' : ['regression'],\n",
    "    'feature_fraction' : [0.7, 0.8,0.9,0.6],\n",
    "    'bagging_fraction' : [0.7, 0.8,0.6],\n",
    "    'metric' : ['mse']\n",
    "}\n",
    "\n",
    "params = gridParams\n",
    "model = lgb.LGBMRegressor()\n",
    "\n",
    "grid = GridSearchCV(model, gridParams,\n",
    "                    verbose=0,\n",
    "                    cv=4,\n",
    "                    n_jobs=-1)\n",
    "\n",
    "grid.fit(X_train, y_train)\n",
    "\n",
    "grid.best_params_"
   ]
  },
  {
   "cell_type": "code",
   "execution_count": 68,
   "metadata": {},
   "outputs": [
    {
     "name": "stdout",
     "output_type": "stream",
     "text": [
      "Fitting with params: \n",
      "{'learning_rate': 0.1, 'boosting_type': ['gbdt'], 'max_depth': 14, 'objective': ['regression'], 'feature_fraction': 0.6, 'bagging_fraction': 0.7, 'metric': ['mse']}\n"
     ]
    }
   ],
   "source": [
    "params['feature_fraction'] = grid.best_params_['feature_fraction']\n",
    "params['learning_rate'] = grid.best_params_['learning_rate']\n",
    "params['bagging_fraction'] = grid.best_params_['bagging_fraction']\n",
    "params['max_depth'] = grid.best_params_['max_depth']\n",
    "print('Fitting with params: ')\n",
    "print(params)"
   ]
  },
  {
   "cell_type": "code",
   "execution_count": 69,
   "metadata": {},
   "outputs": [
    {
     "name": "stdout",
     "output_type": "stream",
     "text": [
      "[LightGBM] [Warning] Find whitespaces in feature_names, replace with underlines\n",
      "[LightGBM] [Warning] Accuracy may be bad since you didn't set num_leaves and 2^max_depth > num_leaves\n",
      "[LightGBM] [Warning] Auto-choosing row-wise multi-threading, the overhead of testing was 0.001556 seconds.\n",
      "You can set `force_row_wise=true` to remove the overhead.\n",
      "And if memory is not enough, you can set `force_col_wise=true`.\n",
      "[LightGBM] [Info] Total Bins 2361\n",
      "[LightGBM] [Info] Number of data points in the train set: 30105, number of used features: 24\n",
      "[LightGBM] [Warning] Accuracy may be bad since you didn't set num_leaves and 2^max_depth > num_leaves\n",
      "[LightGBM] [Warning] Find whitespaces in feature_names, replace with underlines\n",
      "[LightGBM] [Info] Start training from score 4.231181\n",
      "Training until validation scores don't improve for 1000 rounds\n",
      "[100]\tvalid_0's l2: 0.34495\n",
      "[200]\tvalid_0's l2: 0.31477\n",
      "[300]\tvalid_0's l2: 0.297078\n",
      "[400]\tvalid_0's l2: 0.287759\n",
      "[500]\tvalid_0's l2: 0.281729\n",
      "[600]\tvalid_0's l2: 0.27669\n",
      "[700]\tvalid_0's l2: 0.272409\n",
      "[800]\tvalid_0's l2: 0.269096\n",
      "[900]\tvalid_0's l2: 0.266503\n",
      "[1000]\tvalid_0's l2: 0.264827\n",
      "[1100]\tvalid_0's l2: 0.263297\n",
      "[1200]\tvalid_0's l2: 0.261236\n",
      "[1300]\tvalid_0's l2: 0.259837\n",
      "[1400]\tvalid_0's l2: 0.258664\n",
      "[1500]\tvalid_0's l2: 0.258277\n",
      "[1600]\tvalid_0's l2: 0.25773\n",
      "[1700]\tvalid_0's l2: 0.257041\n",
      "[1800]\tvalid_0's l2: 0.256885\n",
      "[1900]\tvalid_0's l2: 0.256538\n",
      "[2000]\tvalid_0's l2: 0.256382\n",
      "[2100]\tvalid_0's l2: 0.256251\n",
      "[2200]\tvalid_0's l2: 0.255945\n",
      "[2300]\tvalid_0's l2: 0.255561\n",
      "[2400]\tvalid_0's l2: 0.254856\n",
      "[2500]\tvalid_0's l2: 0.254489\n",
      "[2600]\tvalid_0's l2: 0.254234\n",
      "[2700]\tvalid_0's l2: 0.254329\n",
      "[2800]\tvalid_0's l2: 0.254371\n",
      "[2900]\tvalid_0's l2: 0.254358\n",
      "[3000]\tvalid_0's l2: 0.254225\n",
      "[3100]\tvalid_0's l2: 0.254155\n",
      "[3200]\tvalid_0's l2: 0.254227\n",
      "[3300]\tvalid_0's l2: 0.254357\n",
      "[3400]\tvalid_0's l2: 0.254719\n",
      "[3500]\tvalid_0's l2: 0.255069\n",
      "[3600]\tvalid_0's l2: 0.25513\n",
      "[3700]\tvalid_0's l2: 0.255446\n",
      "[3800]\tvalid_0's l2: 0.255645\n",
      "[3900]\tvalid_0's l2: 0.255537\n",
      "[4000]\tvalid_0's l2: 0.25567\n",
      "[4100]\tvalid_0's l2: 0.255718\n",
      "Early stopping, best iteration is:\n",
      "[3128]\tvalid_0's l2: 0.254005\n"
     ]
    }
   ],
   "source": [
    "train_ds = lgb.Dataset(X_train, label = y_train) \n",
    "test_ds = lgb.Dataset(X_test, label = y_test)\n",
    "\n",
    "model = lgb.train(params, train_ds, 10000, test_ds, verbose_eval=100, early_stopping_rounds=1000)"
   ]
  },
  {
   "cell_type": "code",
   "execution_count": 70,
   "metadata": {},
   "outputs": [
    {
     "name": "stdout",
     "output_type": "stream",
     "text": [
      "lightgbm model mape:  12.46571294863214\n"
     ]
    }
   ],
   "source": [
    "y_pred = model.predict(X_train)\n",
    "y_pred = np.exp(y_pred)\n",
    "y_pred = np.array(data[data.index.isin(y_train.index.tolist())]['판매단가'][y_train.index]*y_pred).tolist()\n",
    "real = data[data.index.isin(y_train.index.tolist())]['취급액'][y_train.index].tolist()\n",
    "ss = []\n",
    "for i in range(len(y_pred)):\n",
    "    ss.append(MAPE(real[i],y_pred[i]))\n",
    "mape=np.array(ss).mean()*100\n",
    "print('lightgbm model mape: ',mape)"
   ]
  },
  {
   "cell_type": "code",
   "execution_count": 71,
   "metadata": {},
   "outputs": [
    {
     "name": "stdout",
     "output_type": "stream",
     "text": [
      "lightgbm model mape:  31.48268216297981\n"
     ]
    }
   ],
   "source": [
    "y_pred = model.predict(X_test)\n",
    "y_pred = np.exp(y_pred)\n",
    "y_pred = np.array(data[data.index.isin(y_test.index.tolist())]['판매단가'][y_test.index]*y_pred).tolist()\n",
    "real = data[data.index.isin(y_test.index.tolist())]['취급액'][y_test.index].tolist()\n",
    "ss = []\n",
    "for i in range(len(y_pred)):\n",
    "    ss.append(MAPE(real[i],y_pred[i]))\n",
    "mape=np.array(ss).mean()*100\n",
    "print('lightgbm model mape: ',mape)"
   ]
  },
  {
   "cell_type": "code",
   "execution_count": 72,
   "metadata": {},
   "outputs": [
    {
     "data": {
      "text/plain": [
       "<matplotlib.axes._subplots.AxesSubplot at 0x21d32815048>"
      ]
     },
     "execution_count": 72,
     "metadata": {},
     "output_type": "execute_result"
    },
    {
     "data": {
      "image/png": "[encoded data removed]",
      "text/plain": [
       "<Figure size 432x288 with 1 Axes>"
      ]
     },
     "metadata": {
      "needs_background": "light"
     },
     "output_type": "display_data"
    }
   ],
   "source": [
    "lgb.plot_importance(model)"
   ]
  },
  {
   "cell_type": "code",
   "execution_count": null,
   "metadata": {},
   "outputs": [],
   "source": []
  }
 ],
 "metadata": {
  "kernelspec": {
   "display_name": "Python 3",
   "language": "python",
   "name": "python3"
  },
  "language_info": {
   "codemirror_mode": {
    "name": "ipython",
    "version": 3
   },
   "file_extension": ".py",
   "mimetype": "text/x-python",
   "name": "python",
   "nbconvert_exporter": "python",
   "pygments_lexer": "ipython3",
   "version": "3.7.4"
  }
 },
 "nbformat": 4,
 "nbformat_minor": 4
}
