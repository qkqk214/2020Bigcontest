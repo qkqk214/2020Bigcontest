{
 "cells": [
  {
   "cell_type": "markdown",
   "metadata": {},
   "source": [
    "### 필요한 모듈 임포트"
   ]
  },
  {
   "cell_type": "code",
   "execution_count": 1,
   "metadata": {},
   "outputs": [],
   "source": [
    "import pandas as pd\n",
    "import numpy as np\n",
    "import matplotlib.pyplot as plt\n",
    "import seaborn as sns\n",
    "import math\n",
    "import warnings\n",
    "warnings.filterwarnings(action='ignore')\n",
    "\n",
    "from IPython.core.interactiveshell import InteractiveShell\n",
    "InteractiveShell.ast_node_interactivity ='all'\n",
    "\n",
    "from selenium import webdriver\n",
    "from selenium.webdriver.support.ui import Select\n",
    "import time\n",
    "from tqdm.notebook import tqdm\n",
    "\n",
    "import datetime\n",
    "from datetime import timedelta\n",
    "\n",
    "import json"
   ]
  },
  {
   "cell_type": "markdown",
   "metadata": {},
   "source": [
    "#### 데이터 불러오기 (data_v1_COM)"
   ]
  },
  {
   "cell_type": "code",
   "execution_count": 8,
   "metadata": {},
   "outputs": [],
   "source": [
    "data =pd.read_json('data_v1_COM.json',orient='table')"
   ]
  },
  {
   "cell_type": "markdown",
   "metadata": {},
   "source": [
    "### 상품군별 해당 제품 브랜드 검색률 크롤링   (상품군 부분을 바꿔주기)"
   ]
  },
  {
   "cell_type": "code",
   "execution_count": 18,
   "metadata": {
    "scrolled": true
   },
   "outputs": [
    {
     "data": {
      "application/vnd.jupyter.widget-view+json": {
       "model_id": "06ecf45528e449b8817229df34ee9170",
       "version_major": 2,
       "version_minor": 0
      },
      "text/plain": [
       "HBox(children=(IntProgress(value=0, max=488), HTML(value='')))"
      ]
     },
     "metadata": {},
     "output_type": "display_data"
    },
    {
     "name": "stdout",
     "output_type": "stream",
     "text": [
      "비버리힐스폴로클럽 100074 1 1\n"
     ]
    },
    {
     "ename": "WebDriverException",
     "evalue": "Message: chrome not reachable\n  (Session info: chrome=85.0.4183.102)\n",
     "output_type": "error",
     "traceback": [
      "\u001b[1;31m---------------------------------------------------------------------------\u001b[0m",
      "\u001b[1;31mWebDriverException\u001b[0m                        Traceback (most recent call last)",
      "\u001b[1;32m<ipython-input-18-ca1a44e5bbbd>\u001b[0m in \u001b[0;36m<module>\u001b[1;34m\u001b[0m\n\u001b[0;32m     39\u001b[0m         \u001b[0mtime\u001b[0m\u001b[1;33m.\u001b[0m\u001b[0msleep\u001b[0m\u001b[1;33m(\u001b[0m\u001b[1;36m1\u001b[0m\u001b[1;33m)\u001b[0m\u001b[1;33m\u001b[0m\u001b[1;33m\u001b[0m\u001b[0m\n\u001b[0;32m     40\u001b[0m         \u001b[1;31m# 시작날짜 설정하기\u001b[0m\u001b[1;33m\u001b[0m\u001b[1;33m\u001b[0m\u001b[1;33m\u001b[0m\u001b[0m\n\u001b[1;32m---> 41\u001b[1;33m         \u001b[0melem\u001b[0m \u001b[1;33m=\u001b[0m \u001b[0mdriver\u001b[0m\u001b[1;33m.\u001b[0m\u001b[0mfind_element_by_xpath\u001b[0m\u001b[1;33m(\u001b[0m\u001b[1;34m\"//*[@id='startYear']\"\u001b[0m\u001b[1;33m)\u001b[0m\u001b[1;33m\u001b[0m\u001b[1;33m\u001b[0m\u001b[0m\n\u001b[0m\u001b[0;32m     42\u001b[0m         \u001b[0melem\u001b[0m\u001b[1;33m.\u001b[0m\u001b[0mclick\u001b[0m\u001b[1;33m(\u001b[0m\u001b[1;33m)\u001b[0m\u001b[1;33m\u001b[0m\u001b[1;33m\u001b[0m\u001b[0m\n\u001b[0;32m     43\u001b[0m         \u001b[0melem\u001b[0m \u001b[1;33m=\u001b[0m \u001b[0mdriver\u001b[0m\u001b[1;33m.\u001b[0m\u001b[0mfind_element_by_xpath\u001b[0m\u001b[1;33m(\u001b[0m\u001b[1;34m\"//*[@id='startYearDiv']/ul/li[\"\u001b[0m\u001b[1;33m+\u001b[0m\u001b[0mstart_year\u001b[0m\u001b[1;33m+\u001b[0m\u001b[1;34m\"]/a\"\u001b[0m\u001b[1;33m)\u001b[0m\u001b[1;33m\u001b[0m\u001b[1;33m\u001b[0m\u001b[0m\n",
      "\u001b[1;32m~\\Anaconda3\\lib\\site-packages\\selenium\\webdriver\\remote\\webdriver.py\u001b[0m in \u001b[0;36mfind_element_by_xpath\u001b[1;34m(self, xpath)\u001b[0m\n\u001b[0;32m    392\u001b[0m             \u001b[0melement\u001b[0m \u001b[1;33m=\u001b[0m \u001b[0mdriver\u001b[0m\u001b[1;33m.\u001b[0m\u001b[0mfind_element_by_xpath\u001b[0m\u001b[1;33m(\u001b[0m\u001b[1;34m'//div/td[1]'\u001b[0m\u001b[1;33m)\u001b[0m\u001b[1;33m\u001b[0m\u001b[1;33m\u001b[0m\u001b[0m\n\u001b[0;32m    393\u001b[0m         \"\"\"\n\u001b[1;32m--> 394\u001b[1;33m         \u001b[1;32mreturn\u001b[0m \u001b[0mself\u001b[0m\u001b[1;33m.\u001b[0m\u001b[0mfind_element\u001b[0m\u001b[1;33m(\u001b[0m\u001b[0mby\u001b[0m\u001b[1;33m=\u001b[0m\u001b[0mBy\u001b[0m\u001b[1;33m.\u001b[0m\u001b[0mXPATH\u001b[0m\u001b[1;33m,\u001b[0m \u001b[0mvalue\u001b[0m\u001b[1;33m=\u001b[0m\u001b[0mxpath\u001b[0m\u001b[1;33m)\u001b[0m\u001b[1;33m\u001b[0m\u001b[1;33m\u001b[0m\u001b[0m\n\u001b[0m\u001b[0;32m    395\u001b[0m \u001b[1;33m\u001b[0m\u001b[0m\n\u001b[0;32m    396\u001b[0m     \u001b[1;32mdef\u001b[0m \u001b[0mfind_elements_by_xpath\u001b[0m\u001b[1;33m(\u001b[0m\u001b[0mself\u001b[0m\u001b[1;33m,\u001b[0m \u001b[0mxpath\u001b[0m\u001b[1;33m)\u001b[0m\u001b[1;33m:\u001b[0m\u001b[1;33m\u001b[0m\u001b[1;33m\u001b[0m\u001b[0m\n",
      "\u001b[1;32m~\\Anaconda3\\lib\\site-packages\\selenium\\webdriver\\remote\\webdriver.py\u001b[0m in \u001b[0;36mfind_element\u001b[1;34m(self, by, value)\u001b[0m\n\u001b[0;32m    976\u001b[0m         return self.execute(Command.FIND_ELEMENT, {\n\u001b[0;32m    977\u001b[0m             \u001b[1;34m'using'\u001b[0m\u001b[1;33m:\u001b[0m \u001b[0mby\u001b[0m\u001b[1;33m,\u001b[0m\u001b[1;33m\u001b[0m\u001b[1;33m\u001b[0m\u001b[0m\n\u001b[1;32m--> 978\u001b[1;33m             'value': value})['value']\n\u001b[0m\u001b[0;32m    979\u001b[0m \u001b[1;33m\u001b[0m\u001b[0m\n\u001b[0;32m    980\u001b[0m     \u001b[1;32mdef\u001b[0m \u001b[0mfind_elements\u001b[0m\u001b[1;33m(\u001b[0m\u001b[0mself\u001b[0m\u001b[1;33m,\u001b[0m \u001b[0mby\u001b[0m\u001b[1;33m=\u001b[0m\u001b[0mBy\u001b[0m\u001b[1;33m.\u001b[0m\u001b[0mID\u001b[0m\u001b[1;33m,\u001b[0m \u001b[0mvalue\u001b[0m\u001b[1;33m=\u001b[0m\u001b[1;32mNone\u001b[0m\u001b[1;33m)\u001b[0m\u001b[1;33m:\u001b[0m\u001b[1;33m\u001b[0m\u001b[1;33m\u001b[0m\u001b[0m\n",
      "\u001b[1;32m~\\Anaconda3\\lib\\site-packages\\selenium\\webdriver\\remote\\webdriver.py\u001b[0m in \u001b[0;36mexecute\u001b[1;34m(self, driver_command, params)\u001b[0m\n\u001b[0;32m    319\u001b[0m         \u001b[0mresponse\u001b[0m \u001b[1;33m=\u001b[0m \u001b[0mself\u001b[0m\u001b[1;33m.\u001b[0m\u001b[0mcommand_executor\u001b[0m\u001b[1;33m.\u001b[0m\u001b[0mexecute\u001b[0m\u001b[1;33m(\u001b[0m\u001b[0mdriver_command\u001b[0m\u001b[1;33m,\u001b[0m \u001b[0mparams\u001b[0m\u001b[1;33m)\u001b[0m\u001b[1;33m\u001b[0m\u001b[1;33m\u001b[0m\u001b[0m\n\u001b[0;32m    320\u001b[0m         \u001b[1;32mif\u001b[0m \u001b[0mresponse\u001b[0m\u001b[1;33m:\u001b[0m\u001b[1;33m\u001b[0m\u001b[1;33m\u001b[0m\u001b[0m\n\u001b[1;32m--> 321\u001b[1;33m             \u001b[0mself\u001b[0m\u001b[1;33m.\u001b[0m\u001b[0merror_handler\u001b[0m\u001b[1;33m.\u001b[0m\u001b[0mcheck_response\u001b[0m\u001b[1;33m(\u001b[0m\u001b[0mresponse\u001b[0m\u001b[1;33m)\u001b[0m\u001b[1;33m\u001b[0m\u001b[1;33m\u001b[0m\u001b[0m\n\u001b[0m\u001b[0;32m    322\u001b[0m             response['value'] = self._unwrap_value(\n\u001b[0;32m    323\u001b[0m                 response.get('value', None))\n",
      "\u001b[1;32m~\\Anaconda3\\lib\\site-packages\\selenium\\webdriver\\remote\\errorhandler.py\u001b[0m in \u001b[0;36mcheck_response\u001b[1;34m(self, response)\u001b[0m\n\u001b[0;32m    240\u001b[0m                 \u001b[0malert_text\u001b[0m \u001b[1;33m=\u001b[0m \u001b[0mvalue\u001b[0m\u001b[1;33m[\u001b[0m\u001b[1;34m'alert'\u001b[0m\u001b[1;33m]\u001b[0m\u001b[1;33m.\u001b[0m\u001b[0mget\u001b[0m\u001b[1;33m(\u001b[0m\u001b[1;34m'text'\u001b[0m\u001b[1;33m)\u001b[0m\u001b[1;33m\u001b[0m\u001b[1;33m\u001b[0m\u001b[0m\n\u001b[0;32m    241\u001b[0m             \u001b[1;32mraise\u001b[0m \u001b[0mexception_class\u001b[0m\u001b[1;33m(\u001b[0m\u001b[0mmessage\u001b[0m\u001b[1;33m,\u001b[0m \u001b[0mscreen\u001b[0m\u001b[1;33m,\u001b[0m \u001b[0mstacktrace\u001b[0m\u001b[1;33m,\u001b[0m \u001b[0malert_text\u001b[0m\u001b[1;33m)\u001b[0m\u001b[1;33m\u001b[0m\u001b[1;33m\u001b[0m\u001b[0m\n\u001b[1;32m--> 242\u001b[1;33m         \u001b[1;32mraise\u001b[0m \u001b[0mexception_class\u001b[0m\u001b[1;33m(\u001b[0m\u001b[0mmessage\u001b[0m\u001b[1;33m,\u001b[0m \u001b[0mscreen\u001b[0m\u001b[1;33m,\u001b[0m \u001b[0mstacktrace\u001b[0m\u001b[1;33m)\u001b[0m\u001b[1;33m\u001b[0m\u001b[1;33m\u001b[0m\u001b[0m\n\u001b[0m\u001b[0;32m    243\u001b[0m \u001b[1;33m\u001b[0m\u001b[0m\n\u001b[0;32m    244\u001b[0m     \u001b[1;32mdef\u001b[0m \u001b[0m_value_or_default\u001b[0m\u001b[1;33m(\u001b[0m\u001b[0mself\u001b[0m\u001b[1;33m,\u001b[0m \u001b[0mobj\u001b[0m\u001b[1;33m,\u001b[0m \u001b[0mkey\u001b[0m\u001b[1;33m,\u001b[0m \u001b[0mdefault\u001b[0m\u001b[1;33m)\u001b[0m\u001b[1;33m:\u001b[0m\u001b[1;33m\u001b[0m\u001b[1;33m\u001b[0m\u001b[0m\n",
      "\u001b[1;31mWebDriverException\u001b[0m: Message: chrome not reachable\n  (Session info: chrome=85.0.4183.102)\n"
     ]
    }
   ],
   "source": [
    "driver = webdriver.Chrome(\"chromedriver.exe\")\n",
    "driver.get(\"https://datalab.naver.com/keyword/trendSearch.naver\")\n",
    "\n",
    "df = data[data[\"상품군\"]==\"이미용\"]         # 상품군을 바꿔주면서 크롤링\n",
    "uniquebrand = pd.unique(df[\"브랜드\"])\n",
    "Max_num = data[data[\"상품군\"]==\"이미용\"][\"판매일수\"].iloc[0]\n",
    "\n",
    "for brand in uniquebrand:\n",
    "    df2 = df[df[\"브랜드\"]==brand].reset_index(drop=True)\n",
    "    compare = df2.loc[0,\"방송날짜\"] ### 15일 간격을 계속 갱신해주기 위한 변수 , 이 FOR문에 있어야함\n",
    "    for i in tqdm(range(0,len(df2))):\n",
    "\n",
    "        if i != 0:  ### 첫번째 행이 아니면\n",
    "            if (df2.loc[i,\"방송날짜\"] - compare).days<=15:\n",
    "                continue\n",
    "            else:\n",
    "                compare = df2.loc[i,\"방송날짜\"]\n",
    "\n",
    "        #if data.iloc[i,:][\"상품군\"]==\"의류\":\n",
    "        end = df2.iloc[i,:][\"방송날짜\"]\n",
    "        start = end - timedelta(days=np.float64(Max_num))\n",
    "        ## 연도\n",
    "        if start.year == 2019:\n",
    "            start_year = \"4\"\n",
    "        else:\n",
    "            start_year = \"3\"\n",
    "        \n",
    "        if end.year==2020:\n",
    "            end_year =\"5\"\n",
    "        else:\n",
    "            end_year = \"4\"\n",
    "        ## 월,일\n",
    "        start_month ,start_day, end_month, end_day = str(start.month), str(start.day), str(end.month), str(end.day)\n",
    "        topic =df2.loc[i,\"브랜드\"]\n",
    "\n",
    "        # 주제어 넣기\n",
    "        elem = driver.find_element_by_id(\"item_keyword1\")\n",
    "        elem.send_keys(topic)\n",
    "        time.sleep(1)\n",
    "        # 시작날짜 설정하기\n",
    "        elem = driver.find_element_by_xpath(\"//*[@id='startYear']\")\n",
    "        elem.click()\n",
    "        elem = driver.find_element_by_xpath(\"//*[@id='startYearDiv']/ul/li[\"+start_year+\"]/a\")\n",
    "        elem.click()\n",
    "        elem = driver.find_element_by_xpath(\"//*[@id='startMonth']\")\n",
    "        elem.click()\n",
    "        elem = driver.find_element_by_xpath(\"//*[@id='startMonthDiv']/ul/li[\"+start_month+\"]/a\")\n",
    "        elem.click()\n",
    "        elem = driver.find_element_by_xpath(\"//*[@id='startDay']\")\n",
    "        elem.click()\n",
    "        elem = driver.find_element_by_xpath(\"//*[@id='startDayDiv']/ul/li[\"+start_day+\"]/a\")\n",
    "        elem.click()\n",
    "        # 종료날짜 설정하기\n",
    "        time.sleep(1)\n",
    "        elem = driver.find_element_by_xpath(\"//*[@id='endYear']\")\n",
    "        elem.click()\n",
    "        elem = driver.find_element_by_xpath(\"//*[@id='endYearDiv']/ul/li[\"+end_year+\"]/a\")\n",
    "        elem.click()\n",
    "        elem = driver.find_element_by_xpath(\"//*[@id='endMonth']\")\n",
    "        elem.click()\n",
    "        elem = driver.find_element_by_xpath(\"//*[@id='endMonthDiv']/ul/li[\"+end_month+\"]/a\")\n",
    "        elem.click()\n",
    "        elem = driver.find_element_by_xpath(\"//*[@id='endDay']\")\n",
    "        elem.click()\n",
    "        elem = driver.find_element_by_xpath(\"//*[@id='endDayDiv']/ul/li[\"+end_day+\"]/a\")\n",
    "        elem.click()\n",
    "\n",
    "        # 검색버튼 클릭\n",
    "        elem = driver.find_element_by_xpath(\"//*[@id='content']/div/div[2]/div[1]/div/form/fieldset/a/span\")\n",
    "        elem.click()\n",
    "        time.sleep(1)\n",
    "\n",
    "        # 파일 다운로드\n",
    "        elem = driver.find_element_by_xpath(\"//*[@id='content']/div/div[1]/div[1]/div/div/div/div/div/div[1]/div[4]/a\")\n",
    "        elem.click()\n",
    "        time.sleep(1.5)\n",
    "\n",
    "        # 뒤로 가기 \n",
    "        driver.back()\n",
    "        time.sleep(1.5)\n",
    "\n",
    "        #텍스트 지우기\n",
    "        elem = driver.find_element_by_id(\"item_keyword1\")\n",
    "        elem.clear()\n",
    "        elem = driver.find_element_by_id(\"item_sub_keyword1_1\")\n",
    "        elem.clear()\n",
    "        \n",
    "\n",
    "        print(\"%s %s %d %d\"%(df2.loc[i,\"브랜드\"],df2.loc[i,\"마더코드\"],df2.loc[i,\"방송_월\"],df2.loc[i,\"방송_일\"]))"
   ]
  },
  {
   "cell_type": "markdown",
   "metadata": {},
   "source": [
    "### 브랜드를 개별적으로 크롤링하는 코드 (참고용)     Check라고 써져있는 부분만 수정"
   ]
  },
  {
   "cell_type": "code",
   "execution_count": 126,
   "metadata": {},
   "outputs": [
    {
     "data": {
      "application/vnd.jupyter.widget-view+json": {
       "model_id": "9efc40f4639d4e8fa1569a93bc4c1bf8",
       "version_major": 2,
       "version_minor": 0
      },
      "text/plain": [
       "HBox(children=(IntProgress(value=0, max=6), HTML(value='')))"
      ]
     },
     "metadata": {},
     "output_type": "display_data"
    },
    {
     "name": "stdout",
     "output_type": "stream",
     "text": [
      "SPC삼립 100722 1 2\n",
      "\n"
     ]
    }
   ],
   "source": [
    "driver = webdriver.Chrome(\"chromedriver.exe\")\n",
    "driver.get(\"https://datalab.naver.com/keyword/trendSearch.naver\")\n",
    "\n",
    "df = data[data[\"상품군\"]==\"농수축\"]           # Check (상품군만 바꿔주기)\n",
    "uniquebrand = pd.unique(df[\"브랜드\"])\n",
    "Max_num = data[data[\"상품군\"]==\"농수축\"][\"판매일수\"].iloc[0]   # Check (상품군만 바꿔주기)\n",
    "\n",
    "df2 = df[df[\"브랜드\"]==\"SPC삼립\"].reset_index(drop=True)    # Check (브랜드명만 바꿔주기)\n",
    "compare = df2.loc[0,\"방송날짜\"] ### 15일 간격을 계속 갱신해주기 위한 변수 , 이 FOR문에 있어야함\n",
    "\n",
    "for i in tqdm(range(0,len(df2))):\n",
    "\n",
    "    if i != 0:  ### 첫번째 행이 아니면\n",
    "        if (df2.loc[i,\"방송날짜\"] - compare).days<=15:\n",
    "            continue\n",
    "        else:\n",
    "            compare = df2.loc[i,\"방송날짜\"]\n",
    "\n",
    "    #if data.iloc[i,:][\"상품군\"]==\"의류\":\n",
    "    end = df2.iloc[i,:][\"방송날짜\"]\n",
    "    start = end - timedelta(days=np.float64(Max_num))\n",
    "    ## 연도\n",
    "    if start.year == 2019:\n",
    "        start_year = \"4\"\n",
    "    else:\n",
    "        start_year = \"3\"\n",
    "\n",
    "    if end.year==2020:\n",
    "        end_year =\"5\"\n",
    "    else:\n",
    "        end_year = \"4\"\n",
    "    ## 월,일\n",
    "    start_month ,start_day, end_month, end_day = str(start.month), str(start.day), str(end.month), str(end.day)\n",
    "    topic =df2.loc[i,\"브랜드\"]\n",
    "\n",
    "    # 주제어 넣기\n",
    "    elem = driver.find_element_by_id(\"item_keyword1\")\n",
    "    elem.send_keys(topic)\n",
    "    time.sleep(1)\n",
    "    # 시작날짜 설정하기\n",
    "    elem = driver.find_element_by_xpath(\"//*[@id='startYear']\")\n",
    "    elem.click()\n",
    "    elem = driver.find_element_by_xpath(\"//*[@id='startYearDiv']/ul/li[\"+start_year+\"]/a\")\n",
    "    elem.click()\n",
    "    elem = driver.find_element_by_xpath(\"//*[@id='startMonth']\")\n",
    "    elem.click()\n",
    "    elem = driver.find_element_by_xpath(\"//*[@id='startMonthDiv']/ul/li[\"+start_month+\"]/a\")\n",
    "    elem.click()\n",
    "    elem = driver.find_element_by_xpath(\"//*[@id='startDay']\")\n",
    "    elem.click()\n",
    "    elem = driver.find_element_by_xpath(\"//*[@id='startDayDiv']/ul/li[\"+start_day+\"]/a\")\n",
    "    elem.click()\n",
    "    # 종료날짜 설정하기\n",
    "    time.sleep(1)\n",
    "    elem = driver.find_element_by_xpath(\"//*[@id='endYear']\")\n",
    "    elem.click()\n",
    "    elem = driver.find_element_by_xpath(\"//*[@id='endYearDiv']/ul/li[\"+end_year+\"]/a\")\n",
    "    elem.click()\n",
    "    elem = driver.find_element_by_xpath(\"//*[@id='endMonth']\")\n",
    "    elem.click()\n",
    "    elem = driver.find_element_by_xpath(\"//*[@id='endMonthDiv']/ul/li[\"+end_month+\"]/a\")\n",
    "    elem.click()\n",
    "    elem = driver.find_element_by_xpath(\"//*[@id='endDay']\")\n",
    "    elem.click()\n",
    "    elem = driver.find_element_by_xpath(\"//*[@id='endDayDiv']/ul/li[\"+end_day+\"]/a\")\n",
    "    elem.click()\n",
    "\n",
    "    # 검색버튼 클릭\n",
    "    elem = driver.find_element_by_xpath(\"//*[@id='content']/div/div[2]/div[1]/div/form/fieldset/a/span\")\n",
    "    elem.click()\n",
    "    time.sleep(1)\n",
    "\n",
    "    # 파일 다운로드\n",
    "    elem = driver.find_element_by_xpath(\"//*[@id='content']/div/div[1]/div[1]/div/div/div/div/div/div[1]/div[4]/a\")\n",
    "    elem.click()\n",
    "    time.sleep(1.5)\n",
    "\n",
    "    # 뒤로 가기 \n",
    "    driver.back()\n",
    "    time.sleep(1.5)\n",
    "\n",
    "    #텍스트 지우기\n",
    "    elem = driver.find_element_by_id(\"item_keyword1\")\n",
    "    elem.clear()\n",
    "    elem = driver.find_element_by_id(\"item_sub_keyword1_1\")\n",
    "    elem.clear()\n",
    "\n",
    "\n",
    "    print(\"%s %s %d %d\"%(df2.loc[i,\"브랜드\"],df2.loc[i,\"마더코드\"],df2.loc[i,\"방송_월\"],df2.loc[i,\"방송_일\"]))"
   ]
  },
  {
   "cell_type": "code",
   "execution_count": null,
   "metadata": {},
   "outputs": [],
   "source": []
  }
 ],
 "metadata": {
  "kernelspec": {
   "display_name": "Python 3",
   "language": "python",
   "name": "python3"
  },
  "language_info": {
   "codemirror_mode": {
    "name": "ipython",
    "version": 3
   },
   "file_extension": ".py",
   "mimetype": "text/x-python",
   "name": "python",
   "nbconvert_exporter": "python",
   "pygments_lexer": "ipython3",
   "version": "3.8.5"
  }
 },
 "nbformat": 4,
 "nbformat_minor": 4
}
